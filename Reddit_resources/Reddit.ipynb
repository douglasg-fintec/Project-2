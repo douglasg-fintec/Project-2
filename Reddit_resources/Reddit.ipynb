{
 "cells": [
  {
   "cell_type": "code",
   "execution_count": 2,
   "metadata": {},
   "outputs": [],
   "source": [
    "# Import required libraries\n",
    "\n",
    "from psaw import PushshiftAPI\n",
    "import praw\n",
    "import datetime as dt\n",
    "import pandas as pd\n",
    "import csv\n",
    "from pathlib import Path\n"
   ]
  },
  {
   "cell_type": "code",
   "execution_count": 3,
   "metadata": {},
   "outputs": [],
   "source": [
    "  # Initiate api\n",
    "  \n",
    "  api = PushshiftAPI()"
   ]
  },
  {
   "cell_type": "code",
   "execution_count": 4,
   "metadata": {},
   "outputs": [],
   "source": [
    "# use serach_submissions to pull only posts in wallstreeetbets that contain CEI in it\n",
    "\n",
    "subs = api.search_submissions(\n",
    "    q='CEI',\n",
    "    subreddit='wallstreetbets'\n",
    ")"
   ]
  },
  {
   "cell_type": "code",
   "execution_count": 5,
   "metadata": {},
   "outputs": [
    {
     "name": "stderr",
     "output_type": "stream",
     "text": [
      "C:\\Users\\medin\\Anaconda3\\envs\\dev\\lib\\site-packages\\psaw\\PushshiftAPI.py:252: UserWarning: Not all PushShift shards are active. Query results may be incomplete\n",
      "  warnings.warn(shards_down_message)\n"
     ]
    }
   ],
   "source": [
    "# Create dataframe to hold results\n",
    "\n",
    "subs_df = pd.DataFrame([submission.d_ for submission in subs])"
   ]
  },
  {
   "cell_type": "code",
   "execution_count": 6,
   "metadata": {},
   "outputs": [
    {
     "data": {
      "text/plain": [
       "(477, 89)"
      ]
     },
     "execution_count": 6,
     "metadata": {},
     "output_type": "execute_result"
    }
   ],
   "source": [
    "# Determining size of data\n",
    "subs_df.shape"
   ]
  },
  {
   "cell_type": "code",
   "execution_count": 7,
   "metadata": {},
   "outputs": [
    {
     "data": {
      "text/plain": [
       "Index(['all_awardings', 'allow_live_comments', 'author',\n",
       "       'author_flair_css_class', 'author_flair_richtext', 'author_flair_text',\n",
       "       'author_flair_type', 'author_fullname', 'author_is_blocked',\n",
       "       'author_patreon_flair', 'author_premium', 'awarders', 'can_mod_post',\n",
       "       'contest_mode', 'created_utc', 'domain', 'full_link', 'gildings', 'id',\n",
       "       'is_created_from_ads_ui', 'is_crosspostable', 'is_meta',\n",
       "       'is_original_content', 'is_reddit_media_domain', 'is_robot_indexable',\n",
       "       'is_self', 'is_video', 'link_flair_background_color',\n",
       "       'link_flair_css_class', 'link_flair_richtext', 'link_flair_template_id',\n",
       "       'link_flair_text', 'link_flair_text_color', 'link_flair_type', 'locked',\n",
       "       'media_only', 'no_follow', 'num_comments', 'num_crossposts', 'over_18',\n",
       "       'parent_whitelist_status', 'permalink', 'pinned', 'post_hint',\n",
       "       'preview', 'pwls', 'retrieved_on', 'score', 'selftext', 'send_replies',\n",
       "       'spoiler', 'stickied', 'subreddit', 'subreddit_id',\n",
       "       'subreddit_subscribers', 'subreddit_type', 'suggested_sort',\n",
       "       'thumbnail', 'thumbnail_height', 'thumbnail_width', 'title',\n",
       "       'total_awards_received', 'treatment_tags', 'upvote_ratio', 'url',\n",
       "       'url_overridden_by_dest', 'whitelist_status', 'wls', 'created',\n",
       "       'gallery_data', 'is_gallery', 'media_metadata',\n",
       "       'author_flair_background_color', 'author_flair_text_color',\n",
       "       'removed_by_category', 'edited', 'media', 'media_embed', 'secure_media',\n",
       "       'secure_media_embed', 'banned_by', 'author_cakeday', 'og_description',\n",
       "       'og_title', 'steward_reports', 'updated_utc', 'gilded', 'brand_safe',\n",
       "       'rte_mode'],\n",
       "      dtype='object')"
      ]
     },
     "execution_count": 7,
     "metadata": {},
     "output_type": "execute_result"
    }
   ],
   "source": [
    "# View all columns to choose required columns\n",
    "subs_df.columns"
   ]
  },
  {
   "cell_type": "code",
   "execution_count": 8,
   "metadata": {},
   "outputs": [
    {
     "data": {
      "text/html": [
       "<div>\n",
       "<style scoped>\n",
       "    .dataframe tbody tr th:only-of-type {\n",
       "        vertical-align: middle;\n",
       "    }\n",
       "\n",
       "    .dataframe tbody tr th {\n",
       "        vertical-align: top;\n",
       "    }\n",
       "\n",
       "    .dataframe thead th {\n",
       "        text-align: right;\n",
       "    }\n",
       "</style>\n",
       "<table border=\"1\" class=\"dataframe\">\n",
       "  <thead>\n",
       "    <tr style=\"text-align: right;\">\n",
       "      <th></th>\n",
       "      <th>author</th>\n",
       "      <th>title</th>\n",
       "      <th>selftext</th>\n",
       "      <th>score</th>\n",
       "      <th>created_utc</th>\n",
       "    </tr>\n",
       "  </thead>\n",
       "  <tbody>\n",
       "    <tr>\n",
       "      <th>110</th>\n",
       "      <td>Fireguy69420</td>\n",
       "      <td>PROG Short Squeeze???</td>\n",
       "      <td>Somehow my last post got deleted. SI at 24% w ...</td>\n",
       "      <td>1</td>\n",
       "      <td>1633107554</td>\n",
       "    </tr>\n",
       "  </tbody>\n",
       "</table>\n",
       "</div>"
      ],
      "text/plain": [
       "           author                  title  \\\n",
       "110  Fireguy69420  PROG Short Squeeze???   \n",
       "\n",
       "                                              selftext  score  created_utc  \n",
       "110  Somehow my last post got deleted. SI at 24% w ...      1   1633107554  "
      ]
     },
     "execution_count": 8,
     "metadata": {},
     "output_type": "execute_result"
    }
   ],
   "source": [
    "# Testing column names to review data \n",
    "subs_df[['author','title','selftext','score','created_utc']].sample(1)"
   ]
  },
  {
   "cell_type": "code",
   "execution_count": 9,
   "metadata": {},
   "outputs": [],
   "source": [
    "# Convert datetime to readable format\n",
    "subs_df['date'] = pd.to_datetime(subs_df['created_utc'], utc =True, unit='s')"
   ]
  },
  {
   "cell_type": "code",
   "execution_count": 10,
   "metadata": {},
   "outputs": [
    {
     "data": {
      "text/html": [
       "<div>\n",
       "<style scoped>\n",
       "    .dataframe tbody tr th:only-of-type {\n",
       "        vertical-align: middle;\n",
       "    }\n",
       "\n",
       "    .dataframe tbody tr th {\n",
       "        vertical-align: top;\n",
       "    }\n",
       "\n",
       "    .dataframe thead th {\n",
       "        text-align: right;\n",
       "    }\n",
       "</style>\n",
       "<table border=\"1\" class=\"dataframe\">\n",
       "  <thead>\n",
       "    <tr style=\"text-align: right;\">\n",
       "      <th></th>\n",
       "      <th>title</th>\n",
       "      <th>selftext</th>\n",
       "      <th>date</th>\n",
       "      <th>score</th>\n",
       "      <th>num_comments</th>\n",
       "    </tr>\n",
       "  </thead>\n",
       "  <tbody>\n",
       "    <tr>\n",
       "      <th>0</th>\n",
       "      <td>$cei could it be a sleeping giant? Could it re...</td>\n",
       "      <td></td>\n",
       "      <td>2021-10-10 15:01:53+00:00</td>\n",
       "      <td>1</td>\n",
       "      <td>0</td>\n",
       "    </tr>\n",
       "    <tr>\n",
       "      <th>1</th>\n",
       "      <td>#cei the most manipulated stock in the market....</td>\n",
       "      <td></td>\n",
       "      <td>2021-10-09 17:12:26+00:00</td>\n",
       "      <td>1</td>\n",
       "      <td>0</td>\n",
       "    </tr>\n",
       "    <tr>\n",
       "      <th>2</th>\n",
       "      <td>$PED - Pedevco Corp.</td>\n",
       "      <td>This company have been popped up after $CEI ra...</td>\n",
       "      <td>2021-10-09 11:15:13+00:00</td>\n",
       "      <td>1</td>\n",
       "      <td>1</td>\n",
       "    </tr>\n",
       "    <tr>\n",
       "      <th>3</th>\n",
       "      <td>What is up with CEI?</td>\n",
       "      <td>The thing literally is down 99.9% in the last ...</td>\n",
       "      <td>2021-10-09 08:03:49+00:00</td>\n",
       "      <td>1</td>\n",
       "      <td>1</td>\n",
       "    </tr>\n",
       "    <tr>\n",
       "      <th>4</th>\n",
       "      <td>https://twitter.com/KerrisdaleCap/status/14464...</td>\n",
       "      <td>[removed]</td>\n",
       "      <td>2021-10-09 01:41:07+00:00</td>\n",
       "      <td>1</td>\n",
       "      <td>3</td>\n",
       "    </tr>\n",
       "  </tbody>\n",
       "</table>\n",
       "</div>"
      ],
      "text/plain": [
       "                                               title  \\\n",
       "0  $cei could it be a sleeping giant? Could it re...   \n",
       "1  #cei the most manipulated stock in the market....   \n",
       "2                               $PED - Pedevco Corp.   \n",
       "3                               What is up with CEI?   \n",
       "4  https://twitter.com/KerrisdaleCap/status/14464...   \n",
       "\n",
       "                                            selftext  \\\n",
       "0                                                      \n",
       "1                                                      \n",
       "2  This company have been popped up after $CEI ra...   \n",
       "3  The thing literally is down 99.9% in the last ...   \n",
       "4                                          [removed]   \n",
       "\n",
       "                       date  score  num_comments  \n",
       "0 2021-10-10 15:01:53+00:00      1             0  \n",
       "1 2021-10-09 17:12:26+00:00      1             0  \n",
       "2 2021-10-09 11:15:13+00:00      1             1  \n",
       "3 2021-10-09 08:03:49+00:00      1             1  \n",
       "4 2021-10-09 01:41:07+00:00      1             3  "
      ]
     },
     "metadata": {},
     "output_type": "display_data"
    },
    {
     "data": {
      "text/html": [
       "<div>\n",
       "<style scoped>\n",
       "    .dataframe tbody tr th:only-of-type {\n",
       "        vertical-align: middle;\n",
       "    }\n",
       "\n",
       "    .dataframe tbody tr th {\n",
       "        vertical-align: top;\n",
       "    }\n",
       "\n",
       "    .dataframe thead th {\n",
       "        text-align: right;\n",
       "    }\n",
       "</style>\n",
       "<table border=\"1\" class=\"dataframe\">\n",
       "  <thead>\n",
       "    <tr style=\"text-align: right;\">\n",
       "      <th></th>\n",
       "      <th>title</th>\n",
       "      <th>selftext</th>\n",
       "      <th>date</th>\n",
       "      <th>score</th>\n",
       "      <th>num_comments</th>\n",
       "    </tr>\n",
       "  </thead>\n",
       "  <tbody>\n",
       "    <tr>\n",
       "      <th>472</th>\n",
       "      <td>CEI too the moon</td>\n",
       "      <td>100%+ returns today what do you guys think?\\n\\...</td>\n",
       "      <td>2018-09-24 21:10:24+00:00</td>\n",
       "      <td>1</td>\n",
       "      <td>0</td>\n",
       "    </tr>\n",
       "    <tr>\n",
       "      <th>473</th>\n",
       "      <td>The cheapest thing on Robinhood currently is [...</td>\n",
       "      <td>[removed]</td>\n",
       "      <td>2018-02-28 20:04:11+00:00</td>\n",
       "      <td>21</td>\n",
       "      <td>37</td>\n",
       "    </tr>\n",
       "    <tr>\n",
       "      <th>474</th>\n",
       "      <td>BUY CEI U WILL 9X TIMES INCREASE UR MONEY$$$ h...</td>\n",
       "      <td>[removed]</td>\n",
       "      <td>2017-11-22 16:34:32+00:00</td>\n",
       "      <td>1</td>\n",
       "      <td>0</td>\n",
       "    </tr>\n",
       "    <tr>\n",
       "      <th>475</th>\n",
       "      <td>ALERT FOR TUES, NOV 20, 2017 3 HOTTTT WALL ST....</td>\n",
       "      <td>[removed]</td>\n",
       "      <td>2017-11-21 07:04:42+00:00</td>\n",
       "      <td>1</td>\n",
       "      <td>0</td>\n",
       "    </tr>\n",
       "    <tr>\n",
       "      <th>476</th>\n",
       "      <td>XXII and CEI today?</td>\n",
       "      <td>Anyone hopping on or am I going to be the only...</td>\n",
       "      <td>2017-10-06 12:57:00+00:00</td>\n",
       "      <td>7</td>\n",
       "      <td>13</td>\n",
       "    </tr>\n",
       "  </tbody>\n",
       "</table>\n",
       "</div>"
      ],
      "text/plain": [
       "                                                 title  \\\n",
       "472                                   CEI too the moon   \n",
       "473  The cheapest thing on Robinhood currently is [...   \n",
       "474  BUY CEI U WILL 9X TIMES INCREASE UR MONEY$$$ h...   \n",
       "475  ALERT FOR TUES, NOV 20, 2017 3 HOTTTT WALL ST....   \n",
       "476                                XXII and CEI today?   \n",
       "\n",
       "                                              selftext  \\\n",
       "472  100%+ returns today what do you guys think?\\n\\...   \n",
       "473                                          [removed]   \n",
       "474                                          [removed]   \n",
       "475                                          [removed]   \n",
       "476  Anyone hopping on or am I going to be the only...   \n",
       "\n",
       "                         date  score  num_comments  \n",
       "472 2018-09-24 21:10:24+00:00      1             0  \n",
       "473 2018-02-28 20:04:11+00:00     21            37  \n",
       "474 2017-11-22 16:34:32+00:00      1             0  \n",
       "475 2017-11-21 07:04:42+00:00      1             0  \n",
       "476 2017-10-06 12:57:00+00:00      7            13  "
      ]
     },
     "metadata": {},
     "output_type": "display_data"
    }
   ],
   "source": [
    "# Create new dataframe to hold required columns\n",
    "subs_df_2 = subs_df[['title','selftext','date','score','num_comments']]\n",
    "\n",
    "display(subs_df_2.head(5))\n",
    "display(subs_df_2.tail(5))\n"
   ]
  },
  {
   "cell_type": "code",
   "execution_count": 11,
   "metadata": {},
   "outputs": [
    {
     "name": "stderr",
     "output_type": "stream",
     "text": [
      "C:\\Users\\medin\\Anaconda3\\envs\\dev\\lib\\site-packages\\ipykernel_launcher.py:2: SettingWithCopyWarning: \n",
      "A value is trying to be set on a copy of a slice from a DataFrame.\n",
      "Try using .loc[row_indexer,col_indexer] = value instead\n",
      "\n",
      "See the caveats in the documentation: https://pandas.pydata.org/pandas-docs/stable/user_guide/indexing.html#returning-a-view-versus-a-copy\n",
      "  \n"
     ]
    }
   ],
   "source": [
    "# Convert format to required format\n",
    "subs_df_2['date']= subs_df_2.loc[:,'date'].apply(lambda x:pd.Timestamp(x).strftime('%Y-%m-%d %H:%M:%S'))"
   ]
  },
  {
   "cell_type": "code",
   "execution_count": 12,
   "metadata": {},
   "outputs": [],
   "source": [
    "\n",
    "# Remove emojis\n",
    "\n",
    "subs_df_2 = subs_df_2.astype(str).apply(lambda x: x.str.encode('ascii','ignore').str.decode('ascii'))\n",
    "\n",
    "# Remove URLs\n",
    "\n",
    "subs_df_2 = subs_df_2.replace(to_replace=r'https?:\\/\\/.*[\\r\\n]*',value='',regex=True)\n",
    "# Remove [removed]\n",
    "\n",
    "subs_df_2 = subs_df_2.replace('[removed]','')\n",
    "\n",
    "# Removed posts without a date\n",
    "\n",
    "subs_df_2 = subs_df_2.dropna(subset=['date'])\n"
   ]
  },
  {
   "cell_type": "code",
   "execution_count": 13,
   "metadata": {},
   "outputs": [
    {
     "data": {
      "text/html": [
       "<div>\n",
       "<style scoped>\n",
       "    .dataframe tbody tr th:only-of-type {\n",
       "        vertical-align: middle;\n",
       "    }\n",
       "\n",
       "    .dataframe tbody tr th {\n",
       "        vertical-align: top;\n",
       "    }\n",
       "\n",
       "    .dataframe thead th {\n",
       "        text-align: right;\n",
       "    }\n",
       "</style>\n",
       "<table border=\"1\" class=\"dataframe\">\n",
       "  <thead>\n",
       "    <tr style=\"text-align: right;\">\n",
       "      <th></th>\n",
       "      <th>title</th>\n",
       "      <th>selftext</th>\n",
       "      <th>date</th>\n",
       "      <th>score</th>\n",
       "      <th>num_comments</th>\n",
       "    </tr>\n",
       "  </thead>\n",
       "  <tbody>\n",
       "    <tr>\n",
       "      <th>467</th>\n",
       "      <td>Whats the deal with $CEI?</td>\n",
       "      <td>I know Im going to lose half of you autists be...</td>\n",
       "      <td>2019-09-22 13:49:09</td>\n",
       "      <td>2</td>\n",
       "      <td>7</td>\n",
       "    </tr>\n",
       "    <tr>\n",
       "      <th>468</th>\n",
       "      <td>Someone please look at Camber Energy, $CEI</td>\n",
       "      <td>historically energy sector has gone up after a...</td>\n",
       "      <td>2019-08-19 17:43:14</td>\n",
       "      <td>0</td>\n",
       "      <td>3</td>\n",
       "    </tr>\n",
       "    <tr>\n",
       "      <th>469</th>\n",
       "      <td>$CEI is at 420. TIME TO GO ALL IN.</td>\n",
       "      <td></td>\n",
       "      <td>2019-07-15 13:24:22</td>\n",
       "      <td>1</td>\n",
       "      <td>0</td>\n",
       "    </tr>\n",
       "    <tr>\n",
       "      <th>470</th>\n",
       "      <td>Help, cut losses or hold</td>\n",
       "      <td>Bag holding $CEI. Come Monday should I cut los...</td>\n",
       "      <td>2019-07-14 18:50:01</td>\n",
       "      <td>4</td>\n",
       "      <td>18</td>\n",
       "    </tr>\n",
       "    <tr>\n",
       "      <th>471</th>\n",
       "      <td>Challenge find the worst performing stock ever</td>\n",
       "      <td>What's the worst performing stock you can find...</td>\n",
       "      <td>2019-04-21 16:59:31</td>\n",
       "      <td>56</td>\n",
       "      <td>76</td>\n",
       "    </tr>\n",
       "    <tr>\n",
       "      <th>472</th>\n",
       "      <td>CEI too the moon</td>\n",
       "      <td>100%+ returns today what do you guys think?\\n\\...</td>\n",
       "      <td>2018-09-24 21:10:24</td>\n",
       "      <td>1</td>\n",
       "      <td>0</td>\n",
       "    </tr>\n",
       "    <tr>\n",
       "      <th>473</th>\n",
       "      <td>The cheapest thing on Robinhood currently is [...</td>\n",
       "      <td></td>\n",
       "      <td>2018-02-28 20:04:11</td>\n",
       "      <td>21</td>\n",
       "      <td>37</td>\n",
       "    </tr>\n",
       "    <tr>\n",
       "      <th>474</th>\n",
       "      <td>BUY CEI U WILL 9X TIMES INCREASE UR MONEY$$$</td>\n",
       "      <td></td>\n",
       "      <td>2017-11-22 16:34:32</td>\n",
       "      <td>1</td>\n",
       "      <td>0</td>\n",
       "    </tr>\n",
       "    <tr>\n",
       "      <th>475</th>\n",
       "      <td>ALERT FOR TUES, NOV 20, 2017 3 HOTTTT WALL ST....</td>\n",
       "      <td></td>\n",
       "      <td>2017-11-21 07:04:42</td>\n",
       "      <td>1</td>\n",
       "      <td>0</td>\n",
       "    </tr>\n",
       "    <tr>\n",
       "      <th>476</th>\n",
       "      <td>XXII and CEI today?</td>\n",
       "      <td>Anyone hopping on or am I going to be the only...</td>\n",
       "      <td>2017-10-06 12:57:00</td>\n",
       "      <td>7</td>\n",
       "      <td>13</td>\n",
       "    </tr>\n",
       "  </tbody>\n",
       "</table>\n",
       "</div>"
      ],
      "text/plain": [
       "                                                 title  \\\n",
       "467                          Whats the deal with $CEI?   \n",
       "468         Someone please look at Camber Energy, $CEI   \n",
       "469                 $CEI is at 420. TIME TO GO ALL IN.   \n",
       "470                           Help, cut losses or hold   \n",
       "471     Challenge find the worst performing stock ever   \n",
       "472                                   CEI too the moon   \n",
       "473  The cheapest thing on Robinhood currently is [...   \n",
       "474      BUY CEI U WILL 9X TIMES INCREASE UR MONEY$$$    \n",
       "475  ALERT FOR TUES, NOV 20, 2017 3 HOTTTT WALL ST....   \n",
       "476                                XXII and CEI today?   \n",
       "\n",
       "                                              selftext                 date  \\\n",
       "467  I know Im going to lose half of you autists be...  2019-09-22 13:49:09   \n",
       "468  historically energy sector has gone up after a...  2019-08-19 17:43:14   \n",
       "469                                                     2019-07-15 13:24:22   \n",
       "470  Bag holding $CEI. Come Monday should I cut los...  2019-07-14 18:50:01   \n",
       "471  What's the worst performing stock you can find...  2019-04-21 16:59:31   \n",
       "472  100%+ returns today what do you guys think?\\n\\...  2018-09-24 21:10:24   \n",
       "473                                                     2018-02-28 20:04:11   \n",
       "474                                                     2017-11-22 16:34:32   \n",
       "475                                                     2017-11-21 07:04:42   \n",
       "476  Anyone hopping on or am I going to be the only...  2017-10-06 12:57:00   \n",
       "\n",
       "    score num_comments  \n",
       "467     2            7  \n",
       "468     0            3  \n",
       "469     1            0  \n",
       "470     4           18  \n",
       "471    56           76  \n",
       "472     1            0  \n",
       "473    21           37  \n",
       "474     1            0  \n",
       "475     1            0  \n",
       "476     7           13  "
      ]
     },
     "execution_count": 13,
     "metadata": {},
     "output_type": "execute_result"
    }
   ],
   "source": [
    "# Export dataframe into a csv\n",
    "subs_df_2.to_csv(Path('../Resources/reddit_data.csv'),encoding='utf-8', index=None, header=True)\n",
    "subs_df_2.tail(10)"
   ]
  },
  {
   "cell_type": "code",
   "execution_count": null,
   "metadata": {},
   "outputs": [],
   "source": []
  },
  {
   "cell_type": "code",
   "execution_count": null,
   "metadata": {},
   "outputs": [],
   "source": []
  }
 ],
 "metadata": {
  "interpreter": {
   "hash": "98e8a86f1a80fa5964c775adedce0c1597264d02af6c8f426349aa657d6ada29"
  },
  "kernelspec": {
   "display_name": "Python 3.7.10 64-bit ('dev': conda)",
   "name": "python3"
  },
  "language_info": {
   "codemirror_mode": {
    "name": "ipython",
    "version": 3
   },
   "file_extension": ".py",
   "mimetype": "text/x-python",
   "name": "python",
   "nbconvert_exporter": "python",
   "pygments_lexer": "ipython3",
   "version": "3.7.10"
  },
  "orig_nbformat": 4
 },
 "nbformat": 4,
 "nbformat_minor": 2
}
