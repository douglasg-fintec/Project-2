{
 "cells": [
  {
   "cell_type": "code",
   "execution_count": 373,
   "source": [
    "# Import required libraries\r\n",
    "\r\n",
    "from psaw import PushshiftAPI\r\n",
    "import praw\r\n",
    "import datetime as dt\r\n",
    "import pandas as pd\r\n",
    "import csv\r\n",
    "from pathlib import Path\r\n"
   ],
   "outputs": [],
   "metadata": {}
  },
  {
   "cell_type": "code",
   "execution_count": 374,
   "source": [
    "  # Initiate api\r\n",
    "  \r\n",
    "  api = PushshiftAPI()"
   ],
   "outputs": [],
   "metadata": {}
  },
  {
   "cell_type": "code",
   "execution_count": 375,
   "source": [
    "# use serach_submissions to pull only posts in wallstreeetbets that contain CEI in it\r\n",
    "\r\n",
    "subs = api.search_submissions(\r\n",
    "    q='CEI',\r\n",
    "    subreddit='wallstreetbets'\r\n",
    ")"
   ],
   "outputs": [],
   "metadata": {}
  },
  {
   "cell_type": "code",
   "execution_count": 376,
   "source": [
    "# Create dataframe to hold results\r\n",
    "\r\n",
    "subs_df = pd.DataFrame([submission.d_ for submission in subs])"
   ],
   "outputs": [
    {
     "output_type": "stream",
     "name": "stderr",
     "text": [
      "C:\\Users\\medin\\Anaconda3\\envs\\dev\\lib\\site-packages\\psaw\\PushshiftAPI.py:252: UserWarning: Not all PushShift shards are active. Query results may be incomplete\n",
      "  warnings.warn(shards_down_message)\n"
     ]
    }
   ],
   "metadata": {}
  },
  {
   "cell_type": "code",
   "execution_count": 377,
   "source": [
    "# Determining size of data\r\n",
    "subs_df.shape"
   ],
   "outputs": [
    {
     "output_type": "execute_result",
     "data": {
      "text/plain": [
       "(380, 84)"
      ]
     },
     "metadata": {},
     "execution_count": 377
    }
   ],
   "metadata": {}
  },
  {
   "cell_type": "code",
   "execution_count": 378,
   "source": [
    "# View all columns to choose required columns\r\n",
    "subs_df.columns"
   ],
   "outputs": [
    {
     "output_type": "execute_result",
     "data": {
      "text/plain": [
       "Index(['all_awardings', 'allow_live_comments', 'author',\n",
       "       'author_flair_css_class', 'author_flair_richtext', 'author_flair_text',\n",
       "       'author_flair_type', 'author_fullname', 'author_is_blocked',\n",
       "       'author_patreon_flair', 'author_premium', 'awarders', 'can_mod_post',\n",
       "       'contest_mode', 'created_utc', 'domain', 'full_link', 'gildings', 'id',\n",
       "       'is_created_from_ads_ui', 'is_crosspostable', 'is_meta',\n",
       "       'is_original_content', 'is_reddit_media_domain', 'is_robot_indexable',\n",
       "       'is_self', 'is_video', 'link_flair_background_color',\n",
       "       'link_flair_css_class', 'link_flair_richtext', 'link_flair_template_id',\n",
       "       'link_flair_text', 'link_flair_text_color', 'link_flair_type', 'locked',\n",
       "       'media_only', 'no_follow', 'num_comments', 'num_crossposts', 'over_18',\n",
       "       'parent_whitelist_status', 'permalink', 'pinned', 'post_hint',\n",
       "       'preview', 'pwls', 'removed_by_category', 'retrieved_on', 'score',\n",
       "       'selftext', 'send_replies', 'spoiler', 'stickied', 'subreddit',\n",
       "       'subreddit_id', 'subreddit_subscribers', 'subreddit_type',\n",
       "       'suggested_sort', 'thumbnail', 'thumbnail_height', 'thumbnail_width',\n",
       "       'title', 'total_awards_received', 'treatment_tags', 'upvote_ratio',\n",
       "       'url', 'url_overridden_by_dest', 'whitelist_status', 'wls', 'created',\n",
       "       'author_flair_background_color', 'author_flair_text_color',\n",
       "       'media_metadata', 'is_gallery', 'gallery_data', 'author_cakeday',\n",
       "       'banned_by', 'og_description', 'og_title', 'steward_reports',\n",
       "       'updated_utc', 'gilded', 'brand_safe', 'rte_mode'],\n",
       "      dtype='object')"
      ]
     },
     "metadata": {},
     "execution_count": 378
    }
   ],
   "metadata": {}
  },
  {
   "cell_type": "code",
   "execution_count": 379,
   "source": [
    "# Testing column names to review data \r\n",
    "subs_df[['author','title','selftext','score','created_utc']].sample(1)"
   ],
   "outputs": [
    {
     "output_type": "execute_result",
     "data": {
      "text/html": [
       "<div>\n",
       "<style scoped>\n",
       "    .dataframe tbody tr th:only-of-type {\n",
       "        vertical-align: middle;\n",
       "    }\n",
       "\n",
       "    .dataframe tbody tr th {\n",
       "        vertical-align: top;\n",
       "    }\n",
       "\n",
       "    .dataframe thead th {\n",
       "        text-align: right;\n",
       "    }\n",
       "</style>\n",
       "<table border=\"1\" class=\"dataframe\">\n",
       "  <thead>\n",
       "    <tr style=\"text-align: right;\">\n",
       "      <th></th>\n",
       "      <th>author</th>\n",
       "      <th>title</th>\n",
       "      <th>selftext</th>\n",
       "      <th>score</th>\n",
       "      <th>created_utc</th>\n",
       "    </tr>\n",
       "  </thead>\n",
       "  <tbody>\n",
       "    <tr>\n",
       "      <th>178</th>\n",
       "      <td>timothymoss84</td>\n",
       "      <td>Future of $CEI</td>\n",
       "      <td>Camber Energy secured a patent last month and...</td>\n",
       "      <td>1</td>\n",
       "      <td>1631720444</td>\n",
       "    </tr>\n",
       "  </tbody>\n",
       "</table>\n",
       "</div>"
      ],
      "text/plain": [
       "            author           title  \\\n",
       "178  timothymoss84  Future of $CEI   \n",
       "\n",
       "                                              selftext  score  created_utc  \n",
       "178   Camber Energy secured a patent last month and...      1   1631720444  "
      ]
     },
     "metadata": {},
     "execution_count": 379
    }
   ],
   "metadata": {}
  },
  {
   "cell_type": "code",
   "execution_count": 380,
   "source": [
    "# Convert datetime to readable format\r\n",
    "subs_df['date'] = pd.to_datetime(subs_df['created_utc'], utc =True, unit='s')"
   ],
   "outputs": [],
   "metadata": {}
  },
  {
   "cell_type": "code",
   "execution_count": 381,
   "source": [
    "# Create new dataframe to hold required columns\r\n",
    "subs_df_2 = subs_df[['title','selftext','date','score','num_comments']]\r\n",
    "\r\n",
    "display(subs_df_2.head(5))\r\n",
    "display(subs_df_2.tail(5))\r\n"
   ],
   "outputs": [],
   "metadata": {}
  },
  {
   "cell_type": "code",
   "execution_count": 383,
   "source": [
    "# Convert format to required format\r\n",
    "subs_df_2['date']= subs_df_2.loc[:,'date'].apply(lambda x:pd.Timestamp(x).strftime('%Y-%m-%d %H:%M:%S'))"
   ],
   "outputs": [
    {
     "output_type": "stream",
     "name": "stderr",
     "text": [
      "C:\\Users\\medin\\Anaconda3\\envs\\dev\\lib\\site-packages\\ipykernel_launcher.py:1: SettingWithCopyWarning: \n",
      "A value is trying to be set on a copy of a slice from a DataFrame.\n",
      "Try using .loc[row_indexer,col_indexer] = value instead\n",
      "\n",
      "See the caveats in the documentation: https://pandas.pydata.org/pandas-docs/stable/user_guide/indexing.html#returning-a-view-versus-a-copy\n",
      "  \"\"\"Entry point for launching an IPython kernel.\n"
     ]
    }
   ],
   "metadata": {}
  },
  {
   "cell_type": "code",
   "execution_count": 391,
   "source": [
    "\r\n",
    "# Remove emojis\r\n",
    "\r\n",
    "subs_df_2 = subs_df_2.astype(str).apply(lambda x: x.str.encode('ascii','ignore').str.decode('ascii'))\r\n",
    "\r\n",
    "# Remove URLs\r\n",
    "\r\n",
    "subs_df_2 = subs_df_2.replace(to_replace=r'https?:\\/\\/.*[\\r\\n]*',value='',regex=True)\r\n",
    "# Remove [removed]\r\n",
    "\r\n",
    "subs_df_2 = subs_df_2.replace('[removed]','')\r\n",
    "\r\n",
    "# Removed posts without a date\r\n",
    "\r\n",
    "subs_df_2 = subs_df_2.dropna(subset=['date'])\r\n"
   ],
   "outputs": [],
   "metadata": {}
  },
  {
   "cell_type": "code",
   "execution_count": 392,
   "source": [
    "# Export dataframe into a csv\r\n",
    "subs_df_2.to_csv(Path('./Resources/reddit_data.csv'),encoding='utf-8', index=None, header=True)\r\n",
    "subs_df_2.tail(10)"
   ],
   "outputs": [],
   "metadata": {}
  },
  {
   "cell_type": "code",
   "execution_count": null,
   "source": [],
   "outputs": [],
   "metadata": {}
  },
  {
   "cell_type": "code",
   "execution_count": null,
   "source": [],
   "outputs": [],
   "metadata": {}
  }
 ],
 "metadata": {
  "orig_nbformat": 4,
  "language_info": {
   "name": "python",
   "version": "3.7.10",
   "mimetype": "text/x-python",
   "codemirror_mode": {
    "name": "ipython",
    "version": 3
   },
   "pygments_lexer": "ipython3",
   "nbconvert_exporter": "python",
   "file_extension": ".py"
  },
  "kernelspec": {
   "name": "python3",
   "display_name": "Python 3.7.10 64-bit ('dev': conda)"
  },
  "interpreter": {
   "hash": "98e8a86f1a80fa5964c775adedce0c1597264d02af6c8f426349aa657d6ada29"
  }
 },
 "nbformat": 4,
 "nbformat_minor": 2
}