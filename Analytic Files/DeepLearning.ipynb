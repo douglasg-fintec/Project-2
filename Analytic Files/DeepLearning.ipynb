{
 "cells": [
  {
   "cell_type": "markdown",
   "source": [
    "# Neural Network"
   ],
   "metadata": {}
  },
  {
   "cell_type": "code",
   "execution_count": 23,
   "source": [
    "# Import the required libraries and dependencies\r\n",
    "import pandas as pd\r\n",
    "import numpy as np\r\n",
    "import math\r\n",
    "import matplotlib\r\n",
    "from pathlib import Path\r\n",
    "from sklearn.datasets import make_classification\r\n",
    "from sklearn.model_selection import train_test_split\r\n",
    "from sklearn.preprocessing import StandardScaler\r\n",
    "from tensorflow.keras.models import Sequential\r\n",
    "from tensorflow.keras.layers import Dense\r\n",
    "from sklearn.preprocessing import LabelEncoder, StandardScaler\r\n",
    "from datetime import datetime\r\n",
    "import matplotlib.pyplot as plt\r\n",
    "\r\n",
    "%matplotlib inline"
   ],
   "outputs": [],
   "metadata": {}
  },
  {
   "cell_type": "markdown",
   "source": [
    "## Using a Single Neuron for Binary Classification"
   ],
   "metadata": {}
  },
  {
   "cell_type": "markdown",
   "source": [
    "### Step 1 - Import Stock and Social Media data"
   ],
   "metadata": {}
  },
  {
   "cell_type": "code",
   "execution_count": 2,
   "source": [
    "# Import stock data from .csv file\r\n",
    "CEI_data = Path(\"../Resources/CEI_data.csv\")\r\n",
    "CEI_df = pd.read_csv(CEI_data, delimiter=\",\")\r\n",
    "CEI_df.head()"
   ],
   "outputs": [
    {
     "output_type": "execute_result",
     "data": {
      "text/html": [
       "<div>\n",
       "<style scoped>\n",
       "    .dataframe tbody tr th:only-of-type {\n",
       "        vertical-align: middle;\n",
       "    }\n",
       "\n",
       "    .dataframe tbody tr th {\n",
       "        vertical-align: top;\n",
       "    }\n",
       "\n",
       "    .dataframe thead th {\n",
       "        text-align: right;\n",
       "    }\n",
       "</style>\n",
       "<table border=\"1\" class=\"dataframe\">\n",
       "  <thead>\n",
       "    <tr style=\"text-align: right;\">\n",
       "      <th></th>\n",
       "      <th>time</th>\n",
       "      <th>open</th>\n",
       "      <th>high</th>\n",
       "      <th>low</th>\n",
       "      <th>close</th>\n",
       "      <th>volume</th>\n",
       "    </tr>\n",
       "  </thead>\n",
       "  <tbody>\n",
       "    <tr>\n",
       "      <th>0</th>\n",
       "      <td>2021-08-02 09:00:00-04:00</td>\n",
       "      <td>0.4576</td>\n",
       "      <td>0.4576</td>\n",
       "      <td>0.4566</td>\n",
       "      <td>0.4566</td>\n",
       "      <td>200</td>\n",
       "    </tr>\n",
       "    <tr>\n",
       "      <th>1</th>\n",
       "      <td>2021-08-02 09:15:00-04:00</td>\n",
       "      <td>0.4548</td>\n",
       "      <td>0.4548</td>\n",
       "      <td>0.4546</td>\n",
       "      <td>0.4546</td>\n",
       "      <td>200</td>\n",
       "    </tr>\n",
       "    <tr>\n",
       "      <th>2</th>\n",
       "      <td>2021-08-02 09:30:00-04:00</td>\n",
       "      <td>0.4514</td>\n",
       "      <td>0.4514</td>\n",
       "      <td>0.4498</td>\n",
       "      <td>0.4498</td>\n",
       "      <td>200</td>\n",
       "    </tr>\n",
       "    <tr>\n",
       "      <th>3</th>\n",
       "      <td>2021-08-02 09:45:00-04:00</td>\n",
       "      <td>0.4484</td>\n",
       "      <td>0.4498</td>\n",
       "      <td>0.4484</td>\n",
       "      <td>0.4498</td>\n",
       "      <td>200</td>\n",
       "    </tr>\n",
       "    <tr>\n",
       "      <th>4</th>\n",
       "      <td>2021-08-02 10:15:00-04:00</td>\n",
       "      <td>0.4470</td>\n",
       "      <td>0.4470</td>\n",
       "      <td>0.4470</td>\n",
       "      <td>0.4470</td>\n",
       "      <td>387</td>\n",
       "    </tr>\n",
       "  </tbody>\n",
       "</table>\n",
       "</div>"
      ],
      "text/plain": [
       "                        time    open    high     low   close  volume\n",
       "0  2021-08-02 09:00:00-04:00  0.4576  0.4576  0.4566  0.4566     200\n",
       "1  2021-08-02 09:15:00-04:00  0.4548  0.4548  0.4546  0.4546     200\n",
       "2  2021-08-02 09:30:00-04:00  0.4514  0.4514  0.4498  0.4498     200\n",
       "3  2021-08-02 09:45:00-04:00  0.4484  0.4498  0.4484  0.4498     200\n",
       "4  2021-08-02 10:15:00-04:00  0.4470  0.4470  0.4470  0.4470     387"
      ]
     },
     "metadata": {},
     "execution_count": 2
    }
   ],
   "metadata": {}
  },
  {
   "cell_type": "code",
   "execution_count": 3,
   "source": [
    "# Storing the date/time value\r\n",
    "CEI_df['time'] = CEI_df['time'].str.slice(0, 16)\r\n",
    "\r\n",
    "CEI_df.head()"
   ],
   "outputs": [
    {
     "output_type": "execute_result",
     "data": {
      "text/html": [
       "<div>\n",
       "<style scoped>\n",
       "    .dataframe tbody tr th:only-of-type {\n",
       "        vertical-align: middle;\n",
       "    }\n",
       "\n",
       "    .dataframe tbody tr th {\n",
       "        vertical-align: top;\n",
       "    }\n",
       "\n",
       "    .dataframe thead th {\n",
       "        text-align: right;\n",
       "    }\n",
       "</style>\n",
       "<table border=\"1\" class=\"dataframe\">\n",
       "  <thead>\n",
       "    <tr style=\"text-align: right;\">\n",
       "      <th></th>\n",
       "      <th>time</th>\n",
       "      <th>open</th>\n",
       "      <th>high</th>\n",
       "      <th>low</th>\n",
       "      <th>close</th>\n",
       "      <th>volume</th>\n",
       "    </tr>\n",
       "  </thead>\n",
       "  <tbody>\n",
       "    <tr>\n",
       "      <th>0</th>\n",
       "      <td>2021-08-02 09:00</td>\n",
       "      <td>0.4576</td>\n",
       "      <td>0.4576</td>\n",
       "      <td>0.4566</td>\n",
       "      <td>0.4566</td>\n",
       "      <td>200</td>\n",
       "    </tr>\n",
       "    <tr>\n",
       "      <th>1</th>\n",
       "      <td>2021-08-02 09:15</td>\n",
       "      <td>0.4548</td>\n",
       "      <td>0.4548</td>\n",
       "      <td>0.4546</td>\n",
       "      <td>0.4546</td>\n",
       "      <td>200</td>\n",
       "    </tr>\n",
       "    <tr>\n",
       "      <th>2</th>\n",
       "      <td>2021-08-02 09:30</td>\n",
       "      <td>0.4514</td>\n",
       "      <td>0.4514</td>\n",
       "      <td>0.4498</td>\n",
       "      <td>0.4498</td>\n",
       "      <td>200</td>\n",
       "    </tr>\n",
       "    <tr>\n",
       "      <th>3</th>\n",
       "      <td>2021-08-02 09:45</td>\n",
       "      <td>0.4484</td>\n",
       "      <td>0.4498</td>\n",
       "      <td>0.4484</td>\n",
       "      <td>0.4498</td>\n",
       "      <td>200</td>\n",
       "    </tr>\n",
       "    <tr>\n",
       "      <th>4</th>\n",
       "      <td>2021-08-02 10:15</td>\n",
       "      <td>0.4470</td>\n",
       "      <td>0.4470</td>\n",
       "      <td>0.4470</td>\n",
       "      <td>0.4470</td>\n",
       "      <td>387</td>\n",
       "    </tr>\n",
       "  </tbody>\n",
       "</table>\n",
       "</div>"
      ],
      "text/plain": [
       "               time    open    high     low   close  volume\n",
       "0  2021-08-02 09:00  0.4576  0.4576  0.4566  0.4566     200\n",
       "1  2021-08-02 09:15  0.4548  0.4548  0.4546  0.4546     200\n",
       "2  2021-08-02 09:30  0.4514  0.4514  0.4498  0.4498     200\n",
       "3  2021-08-02 09:45  0.4484  0.4498  0.4484  0.4498     200\n",
       "4  2021-08-02 10:15  0.4470  0.4470  0.4470  0.4470     387"
      ]
     },
     "metadata": {},
     "execution_count": 3
    }
   ],
   "metadata": {}
  },
  {
   "cell_type": "code",
   "execution_count": 4,
   "source": [
    "# Import social media data from .csv file\r\n",
    "SM_data = Path(\"../reddit_resources/reddit_data.csv\")\r\n",
    "SM_df = pd.read_csv(SM_data, delimiter=\",\")\r\n",
    "SM_df.head()"
   ],
   "outputs": [
    {
     "output_type": "execute_result",
     "data": {
      "text/html": [
       "<div>\n",
       "<style scoped>\n",
       "    .dataframe tbody tr th:only-of-type {\n",
       "        vertical-align: middle;\n",
       "    }\n",
       "\n",
       "    .dataframe tbody tr th {\n",
       "        vertical-align: top;\n",
       "    }\n",
       "\n",
       "    .dataframe thead th {\n",
       "        text-align: right;\n",
       "    }\n",
       "</style>\n",
       "<table border=\"1\" class=\"dataframe\">\n",
       "  <thead>\n",
       "    <tr style=\"text-align: right;\">\n",
       "      <th></th>\n",
       "      <th>title</th>\n",
       "      <th>selftext</th>\n",
       "      <th>date</th>\n",
       "      <th>score</th>\n",
       "      <th>num_comments</th>\n",
       "    </tr>\n",
       "  </thead>\n",
       "  <tbody>\n",
       "    <tr>\n",
       "      <th>0</th>\n",
       "      <td>I have no DD. It’s a cheap price, the stock ha...</td>\n",
       "      <td>NaN</td>\n",
       "      <td>2021-10-02 01:43:23+00:00</td>\n",
       "      <td>1</td>\n",
       "      <td>0</td>\n",
       "    </tr>\n",
       "    <tr>\n",
       "      <th>1</th>\n",
       "      <td>Who is in PED? It is an energy stock! I am in ...</td>\n",
       "      <td>\\nToday it had a run. It is an energy stock. H...</td>\n",
       "      <td>2021-10-02 01:08:40+00:00</td>\n",
       "      <td>1</td>\n",
       "      <td>0</td>\n",
       "    </tr>\n",
       "    <tr>\n",
       "      <th>2</th>\n",
       "      <td>WHO IS KNOWN FOR CARBON CAPTURE,OH YES. $CEI</td>\n",
       "      <td>NaN</td>\n",
       "      <td>2021-10-01 20:45:15+00:00</td>\n",
       "      <td>1</td>\n",
       "      <td>0</td>\n",
       "    </tr>\n",
       "    <tr>\n",
       "      <th>3</th>\n",
       "      <td>$PROG - The Next Big Short Squeeze Candidate</td>\n",
       "      <td>Alright retards, I can't believe I happened up...</td>\n",
       "      <td>2021-10-01 19:21:32+00:00</td>\n",
       "      <td>1</td>\n",
       "      <td>0</td>\n",
       "    </tr>\n",
       "    <tr>\n",
       "      <th>4</th>\n",
       "      <td>CEI 100% PORT YOLO GAIN HODL TILL 10$+ then 20$</td>\n",
       "      <td>NaN</td>\n",
       "      <td>2021-10-01 18:26:46+00:00</td>\n",
       "      <td>1</td>\n",
       "      <td>0</td>\n",
       "    </tr>\n",
       "  </tbody>\n",
       "</table>\n",
       "</div>"
      ],
      "text/plain": [
       "                                               title  \\\n",
       "0  I have no DD. It’s a cheap price, the stock ha...   \n",
       "1  Who is in PED? It is an energy stock! I am in ...   \n",
       "2       WHO IS KNOWN FOR CARBON CAPTURE,OH YES. $CEI   \n",
       "3       $PROG - The Next Big Short Squeeze Candidate   \n",
       "4    CEI 100% PORT YOLO GAIN HODL TILL 10$+ then 20$   \n",
       "\n",
       "                                            selftext  \\\n",
       "0                                                NaN   \n",
       "1  \\nToday it had a run. It is an energy stock. H...   \n",
       "2                                                NaN   \n",
       "3  Alright retards, I can't believe I happened up...   \n",
       "4                                                NaN   \n",
       "\n",
       "                        date  score  num_comments  \n",
       "0  2021-10-02 01:43:23+00:00      1             0  \n",
       "1  2021-10-02 01:08:40+00:00      1             0  \n",
       "2  2021-10-01 20:45:15+00:00      1             0  \n",
       "3  2021-10-01 19:21:32+00:00      1             0  \n",
       "4  2021-10-01 18:26:46+00:00      1             0  "
      ]
     },
     "metadata": {},
     "execution_count": 4
    }
   ],
   "metadata": {}
  },
  {
   "cell_type": "code",
   "execution_count": 5,
   "source": [
    "# Storing the date/time value\r\n",
    "SM_df['min'] = SM_df['date'].str.slice(14, 16).astype(int)\r\n",
    "SM_df['min'] = 15 * (SM_df['min']/15).apply(np.round).apply(int)\r\n",
    "SM_df['min'] = SM_df['min'].astype(str).str.zfill(2)\r\n",
    "SM_df['time'] = SM_df['date'].str.slice(0, 14)+SM_df['min'] \r\n",
    "\r\n",
    "SM_df.tail()"
   ],
   "outputs": [
    {
     "output_type": "execute_result",
     "data": {
      "text/html": [
       "<div>\n",
       "<style scoped>\n",
       "    .dataframe tbody tr th:only-of-type {\n",
       "        vertical-align: middle;\n",
       "    }\n",
       "\n",
       "    .dataframe tbody tr th {\n",
       "        vertical-align: top;\n",
       "    }\n",
       "\n",
       "    .dataframe thead th {\n",
       "        text-align: right;\n",
       "    }\n",
       "</style>\n",
       "<table border=\"1\" class=\"dataframe\">\n",
       "  <thead>\n",
       "    <tr style=\"text-align: right;\">\n",
       "      <th></th>\n",
       "      <th>title</th>\n",
       "      <th>selftext</th>\n",
       "      <th>date</th>\n",
       "      <th>score</th>\n",
       "      <th>num_comments</th>\n",
       "      <th>min</th>\n",
       "      <th>time</th>\n",
       "    </tr>\n",
       "  </thead>\n",
       "  <tbody>\n",
       "    <tr>\n",
       "      <th>369</th>\n",
       "      <td>CEI too the moon</td>\n",
       "      <td>100%+ returns today what do you guys think?\\n\\...</td>\n",
       "      <td>2018-09-24 21:10:24+00:00</td>\n",
       "      <td>1</td>\n",
       "      <td>0</td>\n",
       "      <td>15</td>\n",
       "      <td>2018-09-24 21:15</td>\n",
       "    </tr>\n",
       "    <tr>\n",
       "      <th>370</th>\n",
       "      <td>The cheapest thing on Robinhood currently is [...</td>\n",
       "      <td>[removed]</td>\n",
       "      <td>2018-02-28 20:04:11+00:00</td>\n",
       "      <td>21</td>\n",
       "      <td>37</td>\n",
       "      <td>00</td>\n",
       "      <td>2018-02-28 20:00</td>\n",
       "    </tr>\n",
       "    <tr>\n",
       "      <th>371</th>\n",
       "      <td>BUY CEI U WILL 9X TIMES INCREASE UR MONEY$$$ h...</td>\n",
       "      <td>[removed]</td>\n",
       "      <td>2017-11-22 16:34:32+00:00</td>\n",
       "      <td>1</td>\n",
       "      <td>0</td>\n",
       "      <td>30</td>\n",
       "      <td>2017-11-22 16:30</td>\n",
       "    </tr>\n",
       "    <tr>\n",
       "      <th>372</th>\n",
       "      <td>ALERT FOR TUES, NOV 20, 2017 3 HOTTTT WALL ST....</td>\n",
       "      <td>[removed]</td>\n",
       "      <td>2017-11-21 07:04:42+00:00</td>\n",
       "      <td>1</td>\n",
       "      <td>0</td>\n",
       "      <td>00</td>\n",
       "      <td>2017-11-21 07:00</td>\n",
       "    </tr>\n",
       "    <tr>\n",
       "      <th>373</th>\n",
       "      <td>XXII and CEI today?</td>\n",
       "      <td>Anyone hopping on or am I going to be the only...</td>\n",
       "      <td>2017-10-06 12:57:00+00:00</td>\n",
       "      <td>7</td>\n",
       "      <td>13</td>\n",
       "      <td>60</td>\n",
       "      <td>2017-10-06 12:60</td>\n",
       "    </tr>\n",
       "  </tbody>\n",
       "</table>\n",
       "</div>"
      ],
      "text/plain": [
       "                                                 title  \\\n",
       "369                                   CEI too the moon   \n",
       "370  The cheapest thing on Robinhood currently is [...   \n",
       "371  BUY CEI U WILL 9X TIMES INCREASE UR MONEY$$$ h...   \n",
       "372  ALERT FOR TUES, NOV 20, 2017 3 HOTTTT WALL ST....   \n",
       "373                                XXII and CEI today?   \n",
       "\n",
       "                                              selftext  \\\n",
       "369  100%+ returns today what do you guys think?\\n\\...   \n",
       "370                                          [removed]   \n",
       "371                                          [removed]   \n",
       "372                                          [removed]   \n",
       "373  Anyone hopping on or am I going to be the only...   \n",
       "\n",
       "                          date  score  num_comments min              time  \n",
       "369  2018-09-24 21:10:24+00:00      1             0  15  2018-09-24 21:15  \n",
       "370  2018-02-28 20:04:11+00:00     21            37  00  2018-02-28 20:00  \n",
       "371  2017-11-22 16:34:32+00:00      1             0  30  2017-11-22 16:30  \n",
       "372  2017-11-21 07:04:42+00:00      1             0  00  2017-11-21 07:00  \n",
       "373  2017-10-06 12:57:00+00:00      7            13  60  2017-10-06 12:60  "
      ]
     },
     "metadata": {},
     "execution_count": 5
    }
   ],
   "metadata": {}
  },
  {
   "cell_type": "code",
   "execution_count": 10,
   "source": [
    "# Merge stock and social media dataframe\r\n",
    "df = CEI_df.merge(SM_df, left_on='time', right_on='time')\r\n",
    "df.drop(columns=['min', 'date', 'title', 'selftext'], axis=1, inplace=True)\r\n",
    "df.tail()"
   ],
   "outputs": [
    {
     "output_type": "execute_result",
     "data": {
      "text/html": [
       "<div>\n",
       "<style scoped>\n",
       "    .dataframe tbody tr th:only-of-type {\n",
       "        vertical-align: middle;\n",
       "    }\n",
       "\n",
       "    .dataframe tbody tr th {\n",
       "        vertical-align: top;\n",
       "    }\n",
       "\n",
       "    .dataframe thead th {\n",
       "        text-align: right;\n",
       "    }\n",
       "</style>\n",
       "<table border=\"1\" class=\"dataframe\">\n",
       "  <thead>\n",
       "    <tr style=\"text-align: right;\">\n",
       "      <th></th>\n",
       "      <th>time</th>\n",
       "      <th>open</th>\n",
       "      <th>high</th>\n",
       "      <th>low</th>\n",
       "      <th>close</th>\n",
       "      <th>volume</th>\n",
       "      <th>score</th>\n",
       "      <th>num_comments</th>\n",
       "    </tr>\n",
       "  </thead>\n",
       "  <tbody>\n",
       "    <tr>\n",
       "      <th>54</th>\n",
       "      <td>2021-09-30 14:30</td>\n",
       "      <td>3.730</td>\n",
       "      <td>3.76</td>\n",
       "      <td>3.62</td>\n",
       "      <td>3.63</td>\n",
       "      <td>101133</td>\n",
       "      <td>1</td>\n",
       "      <td>3</td>\n",
       "    </tr>\n",
       "    <tr>\n",
       "      <th>55</th>\n",
       "      <td>2021-09-30 14:45</td>\n",
       "      <td>3.640</td>\n",
       "      <td>3.70</td>\n",
       "      <td>3.60</td>\n",
       "      <td>3.68</td>\n",
       "      <td>43571</td>\n",
       "      <td>1</td>\n",
       "      <td>1</td>\n",
       "    </tr>\n",
       "    <tr>\n",
       "      <th>56</th>\n",
       "      <td>2021-09-30 15:30</td>\n",
       "      <td>3.685</td>\n",
       "      <td>3.89</td>\n",
       "      <td>3.66</td>\n",
       "      <td>3.86</td>\n",
       "      <td>88756</td>\n",
       "      <td>1</td>\n",
       "      <td>1</td>\n",
       "    </tr>\n",
       "    <tr>\n",
       "      <th>57</th>\n",
       "      <td>2021-09-30 16:00</td>\n",
       "      <td>3.880</td>\n",
       "      <td>3.88</td>\n",
       "      <td>3.80</td>\n",
       "      <td>3.80</td>\n",
       "      <td>800</td>\n",
       "      <td>1</td>\n",
       "      <td>1</td>\n",
       "    </tr>\n",
       "    <tr>\n",
       "      <th>58</th>\n",
       "      <td>2021-09-30 16:30</td>\n",
       "      <td>3.730</td>\n",
       "      <td>3.84</td>\n",
       "      <td>3.71</td>\n",
       "      <td>3.73</td>\n",
       "      <td>6153</td>\n",
       "      <td>1</td>\n",
       "      <td>3</td>\n",
       "    </tr>\n",
       "  </tbody>\n",
       "</table>\n",
       "</div>"
      ],
      "text/plain": [
       "                time   open  high   low  close  volume  score  num_comments\n",
       "54  2021-09-30 14:30  3.730  3.76  3.62   3.63  101133      1             3\n",
       "55  2021-09-30 14:45  3.640  3.70  3.60   3.68   43571      1             1\n",
       "56  2021-09-30 15:30  3.685  3.89  3.66   3.86   88756      1             1\n",
       "57  2021-09-30 16:00  3.880  3.88  3.80   3.80     800      1             1\n",
       "58  2021-09-30 16:30  3.730  3.84  3.71   3.73    6153      1             3"
      ]
     },
     "metadata": {},
     "execution_count": 10
    }
   ],
   "metadata": {}
  },
  {
   "cell_type": "markdown",
   "source": [
    "### Step 2 - Encoded Data"
   ],
   "metadata": {}
  },
  {
   "cell_type": "code",
   "execution_count": 8,
   "source": [
    "# Split target column from dataset\r\n",
    "y = df['close']\r\n",
    "X = df.drop(columns='close')\r\n",
    "\r\n",
    "# Set Index\r\n",
    "X = X.set_index('time')\r\n",
    "\r\n",
    "# Binary encoding using Pandas (multiple columns) for Social Media Data\r\n",
    "X = pd.get_dummies(X)\r\n",
    "\r\n",
    "X.tail()"
   ],
   "outputs": [
    {
     "output_type": "execute_result",
     "data": {
      "text/html": [
       "<div>\n",
       "<style scoped>\n",
       "    .dataframe tbody tr th:only-of-type {\n",
       "        vertical-align: middle;\n",
       "    }\n",
       "\n",
       "    .dataframe tbody tr th {\n",
       "        vertical-align: top;\n",
       "    }\n",
       "\n",
       "    .dataframe thead th {\n",
       "        text-align: right;\n",
       "    }\n",
       "</style>\n",
       "<table border=\"1\" class=\"dataframe\">\n",
       "  <thead>\n",
       "    <tr style=\"text-align: right;\">\n",
       "      <th></th>\n",
       "      <th>open</th>\n",
       "      <th>high</th>\n",
       "      <th>low</th>\n",
       "      <th>volume</th>\n",
       "      <th>score</th>\n",
       "      <th>num_comments</th>\n",
       "    </tr>\n",
       "    <tr>\n",
       "      <th>time</th>\n",
       "      <th></th>\n",
       "      <th></th>\n",
       "      <th></th>\n",
       "      <th></th>\n",
       "      <th></th>\n",
       "      <th></th>\n",
       "    </tr>\n",
       "  </thead>\n",
       "  <tbody>\n",
       "    <tr>\n",
       "      <th>2021-09-30 14:30</th>\n",
       "      <td>3.730</td>\n",
       "      <td>3.76</td>\n",
       "      <td>3.62</td>\n",
       "      <td>101133</td>\n",
       "      <td>1</td>\n",
       "      <td>3</td>\n",
       "    </tr>\n",
       "    <tr>\n",
       "      <th>2021-09-30 14:45</th>\n",
       "      <td>3.640</td>\n",
       "      <td>3.70</td>\n",
       "      <td>3.60</td>\n",
       "      <td>43571</td>\n",
       "      <td>1</td>\n",
       "      <td>1</td>\n",
       "    </tr>\n",
       "    <tr>\n",
       "      <th>2021-09-30 15:30</th>\n",
       "      <td>3.685</td>\n",
       "      <td>3.89</td>\n",
       "      <td>3.66</td>\n",
       "      <td>88756</td>\n",
       "      <td>1</td>\n",
       "      <td>1</td>\n",
       "    </tr>\n",
       "    <tr>\n",
       "      <th>2021-09-30 16:00</th>\n",
       "      <td>3.880</td>\n",
       "      <td>3.88</td>\n",
       "      <td>3.80</td>\n",
       "      <td>800</td>\n",
       "      <td>1</td>\n",
       "      <td>1</td>\n",
       "    </tr>\n",
       "    <tr>\n",
       "      <th>2021-09-30 16:30</th>\n",
       "      <td>3.730</td>\n",
       "      <td>3.84</td>\n",
       "      <td>3.71</td>\n",
       "      <td>6153</td>\n",
       "      <td>1</td>\n",
       "      <td>3</td>\n",
       "    </tr>\n",
       "  </tbody>\n",
       "</table>\n",
       "</div>"
      ],
      "text/plain": [
       "                   open  high   low  volume  score  num_comments\n",
       "time                                                            \n",
       "2021-09-30 14:30  3.730  3.76  3.62  101133      1             3\n",
       "2021-09-30 14:45  3.640  3.70  3.60   43571      1             1\n",
       "2021-09-30 15:30  3.685  3.89  3.66   88756      1             1\n",
       "2021-09-30 16:00  3.880  3.88  3.80     800      1             1\n",
       "2021-09-30 16:30  3.730  3.84  3.71    6153      1             3"
      ]
     },
     "metadata": {},
     "execution_count": 8
    }
   ],
   "metadata": {}
  },
  {
   "cell_type": "markdown",
   "source": [
    "### Step 3 - Scaling Data"
   ],
   "metadata": {}
  },
  {
   "cell_type": "code",
   "execution_count": 9,
   "source": [
    "# Splitting into Train and Test sets\r\n",
    "X_train, X_test, y_train, y_test = train_test_split(X, y, random_state=1)\r\n",
    "\r\n",
    "# Creating the scaler instance\r\n",
    "scaler = StandardScaler()\r\n",
    "\r\n",
    "# Fitting the scaler\r\n",
    "X_scaler = scaler.fit(X_train)\r\n",
    "\r\n",
    "# Scaling data\r\n",
    "X_train_scaled = X_scaler.transform(X_train)\r\n",
    "X_test_scaled = X_scaler.transform(X_test)"
   ],
   "outputs": [],
   "metadata": {}
  },
  {
   "cell_type": "markdown",
   "source": [
    "### Step 4 - Neural Network Model Creation"
   ],
   "metadata": {}
  },
  {
   "cell_type": "markdown",
   "source": [
    "#### Add the layers of Neural Network"
   ],
   "metadata": {}
  },
  {
   "cell_type": "code",
   "execution_count": 108,
   "source": [
    "# Create a sequential model\r\n",
    "neuron = Sequential()\r\n",
    "\r\n",
    "# First layer of Neural Network\r\n",
    "number_inputs = 6\r\n",
    "number_hidden_nodes = 6\r\n",
    "\r\n",
    "neuron.add(Dense(units=number_hidden_nodes, activation=\"tanh\", input_dim=number_inputs))\r\n",
    "\r\n",
    "# Create the second hidden layer\r\n",
    "# number_hidden_nodes2 = 2\r\n",
    "\r\n",
    "# neuron.add(Dense(units=number_hidden_nodes2, activation=\"relu\"))\r\n",
    "\r\n",
    "# Output layer\r\n",
    "output_nodes = 1\r\n",
    "\r\n",
    "neuron.add(Dense(units=output_nodes, activation=\"tanh\"))\r\n",
    "\r\n",
    "# Model summary\r\n",
    "neuron.summary()\r\n",
    "\r\n",
    "## Compile model\r\n",
    "## neuron.compile(loss=\"binary_crossentropy\", optimizer=\"adam\", metrics=[\"accuracy\"])\r\n",
    "\r\n",
    "# Compile the model \r\n",
    "# Set the parameters as mean_squared_error, adam, and mse.\r\n",
    "neuron.compile(loss=\"mean_squared_error\", optimizer=\"adam\", metrics=[\"mse\"])"
   ],
   "outputs": [
    {
     "output_type": "stream",
     "name": "stdout",
     "text": [
      "Model: \"sequential_17\"\n",
      "_________________________________________________________________\n",
      "Layer (type)                 Output Shape              Param #   \n",
      "=================================================================\n",
      "dense_36 (Dense)             (None, 6)                 42        \n",
      "_________________________________________________________________\n",
      "dense_37 (Dense)             (None, 1)                 7         \n",
      "=================================================================\n",
      "Total params: 49\n",
      "Trainable params: 49\n",
      "Non-trainable params: 0\n",
      "_________________________________________________________________\n"
     ]
    }
   ],
   "metadata": {}
  },
  {
   "cell_type": "code",
   "execution_count": 109,
   "source": [
    "# Fit the model\r\n",
    "# The validation split parameter splits the data into testing and training sets.\r\n",
    "model = neuron.fit(X, y, validation_split=0.2, epochs=800, verbose=0)"
   ],
   "outputs": [],
   "metadata": {}
  },
  {
   "cell_type": "markdown",
   "source": [
    "#### Evaluate the Model"
   ],
   "metadata": {}
  },
  {
   "cell_type": "code",
   "execution_count": 110,
   "source": [
    "# Plotting the Loss Function and Accuracy\r\n",
    "# Create a DataFrame with the history dictionary\r\n",
    "df = pd.DataFrame(model.history, index=range(1, len(model.history[\"loss\"]) + 1))\r\n",
    "\r\n",
    "# Plot the loss\r\n",
    "df.plot(y=\"loss\")"
   ],
   "outputs": [
    {
     "output_type": "execute_result",
     "data": {
      "text/plain": [
       "<AxesSubplot:>"
      ]
     },
     "metadata": {},
     "execution_count": 110
    },
    {
     "output_type": "display_data",
     "data": {
      "image/png": "[encoded data removed]",
      "text/plain": [
       "<Figure size 432x288 with 1 Axes>"
      ]
     },
     "metadata": {}
    }
   ],
   "metadata": {}
  },
  {
   "cell_type": "code",
   "execution_count": null,
   "source": [
    "# Plot the accuracy\r\n",
    "df.plot(y=\"accuracy\")"
   ],
   "outputs": [],
   "metadata": {}
  },
  {
   "cell_type": "code",
   "execution_count": 111,
   "source": [
    "# Evaluate the model using the testing data\r\n",
    "model_loss, model_accuracy = neuron.evaluate(X_test_scaled, y_test, verbose=2)\r\n",
    "print(f\"Loss: {model_loss}, Accuracy: {model_accuracy}\")"
   ],
   "outputs": [
    {
     "output_type": "stream",
     "name": "stdout",
     "text": [
      "1/1 - 0s - loss: 5.0532 - mse: 5.0532\n",
      "Loss: 5.05321741104126, Accuracy: 5.05321741104126\n"
     ]
    }
   ],
   "metadata": {}
  },
  {
   "cell_type": "markdown",
   "source": [
    "### Step 5 - Prediction"
   ],
   "metadata": {}
  },
  {
   "cell_type": "code",
   "execution_count": 112,
   "source": [
    "# Making predictions\r\n",
    "predictions = neuron.predict(X_test_scaled)\r\n",
    "results = pd.DataFrame({\"predictions\": predictions.ravel(), \"actual\": y_test.ravel()})\r\n",
    "results.head(10)"
   ],
   "outputs": [
    {
     "output_type": "execute_result",
     "data": {
      "text/html": [
       "<div>\n",
       "<style scoped>\n",
       "    .dataframe tbody tr th:only-of-type {\n",
       "        vertical-align: middle;\n",
       "    }\n",
       "\n",
       "    .dataframe tbody tr th {\n",
       "        vertical-align: top;\n",
       "    }\n",
       "\n",
       "    .dataframe thead th {\n",
       "        text-align: right;\n",
       "    }\n",
       "</style>\n",
       "<table border=\"1\" class=\"dataframe\">\n",
       "  <thead>\n",
       "    <tr style=\"text-align: right;\">\n",
       "      <th></th>\n",
       "      <th>predictions</th>\n",
       "      <th>actual</th>\n",
       "    </tr>\n",
       "  </thead>\n",
       "  <tbody>\n",
       "    <tr>\n",
       "      <th>0</th>\n",
       "      <td>0.916705</td>\n",
       "      <td>3.5050</td>\n",
       "    </tr>\n",
       "    <tr>\n",
       "      <th>1</th>\n",
       "      <td>-0.873551</td>\n",
       "      <td>0.7079</td>\n",
       "    </tr>\n",
       "    <tr>\n",
       "      <th>2</th>\n",
       "      <td>0.872782</td>\n",
       "      <td>2.5700</td>\n",
       "    </tr>\n",
       "    <tr>\n",
       "      <th>3</th>\n",
       "      <td>0.993651</td>\n",
       "      <td>3.8600</td>\n",
       "    </tr>\n",
       "    <tr>\n",
       "      <th>4</th>\n",
       "      <td>0.928472</td>\n",
       "      <td>3.1150</td>\n",
       "    </tr>\n",
       "    <tr>\n",
       "      <th>5</th>\n",
       "      <td>0.505415</td>\n",
       "      <td>1.9450</td>\n",
       "    </tr>\n",
       "    <tr>\n",
       "      <th>6</th>\n",
       "      <td>0.928472</td>\n",
       "      <td>3.1150</td>\n",
       "    </tr>\n",
       "    <tr>\n",
       "      <th>7</th>\n",
       "      <td>0.116068</td>\n",
       "      <td>1.6300</td>\n",
       "    </tr>\n",
       "    <tr>\n",
       "      <th>8</th>\n",
       "      <td>-0.826714</td>\n",
       "      <td>1.6300</td>\n",
       "    </tr>\n",
       "    <tr>\n",
       "      <th>9</th>\n",
       "      <td>0.967967</td>\n",
       "      <td>3.5900</td>\n",
       "    </tr>\n",
       "  </tbody>\n",
       "</table>\n",
       "</div>"
      ],
      "text/plain": [
       "   predictions  actual\n",
       "0     0.916705  3.5050\n",
       "1    -0.873551  0.7079\n",
       "2     0.872782  2.5700\n",
       "3     0.993651  3.8600\n",
       "4     0.928472  3.1150\n",
       "5     0.505415  1.9450\n",
       "6     0.928472  3.1150\n",
       "7     0.116068  1.6300\n",
       "8    -0.826714  1.6300\n",
       "9     0.967967  3.5900"
      ]
     },
     "metadata": {},
     "execution_count": 112
    }
   ],
   "metadata": {}
  },
  {
   "cell_type": "code",
   "execution_count": 30,
   "source": [
    "# Plot train vs test for the deep neural net\r\n",
    "plt.plot(neuron.history[\"loss\"])\r\n",
    "plt.plot(neuron.history[\"val_loss\"])\r\n",
    "plt.title(\"loss_function - 2 hidden layers - Train Vs. Test\")\r\n",
    "plt.legend([\"train\", \"test\"])\r\n",
    "plt.show()"
   ],
   "outputs": [
    {
     "output_type": "error",
     "ename": "TypeError",
     "evalue": "'History' object is not subscriptable",
     "traceback": [
      "\u001b[1;31m---------------------------------------------------------------------------\u001b[0m",
      "\u001b[1;31mTypeError\u001b[0m                                 Traceback (most recent call last)",
      "\u001b[1;32m<ipython-input-30-744a97fa87c7>\u001b[0m in \u001b[0;36m<module>\u001b[1;34m\u001b[0m\n\u001b[0;32m      1\u001b[0m \u001b[1;31m# Plot train vs test for the deep neural net\u001b[0m\u001b[1;33m\u001b[0m\u001b[1;33m\u001b[0m\u001b[1;33m\u001b[0m\u001b[0m\n\u001b[1;32m----> 2\u001b[1;33m \u001b[0mplt\u001b[0m\u001b[1;33m.\u001b[0m\u001b[0mplot\u001b[0m\u001b[1;33m(\u001b[0m\u001b[0mneuron\u001b[0m\u001b[1;33m.\u001b[0m\u001b[0mhistory\u001b[0m\u001b[1;33m[\u001b[0m\u001b[1;34m\"loss\"\u001b[0m\u001b[1;33m]\u001b[0m\u001b[1;33m)\u001b[0m\u001b[1;33m\u001b[0m\u001b[1;33m\u001b[0m\u001b[0m\n\u001b[0m\u001b[0;32m      3\u001b[0m \u001b[0mplt\u001b[0m\u001b[1;33m.\u001b[0m\u001b[0mplot\u001b[0m\u001b[1;33m(\u001b[0m\u001b[0mneuron\u001b[0m\u001b[1;33m.\u001b[0m\u001b[0mhistory\u001b[0m\u001b[1;33m[\u001b[0m\u001b[1;34m\"val_loss\"\u001b[0m\u001b[1;33m]\u001b[0m\u001b[1;33m)\u001b[0m\u001b[1;33m\u001b[0m\u001b[1;33m\u001b[0m\u001b[0m\n\u001b[0;32m      4\u001b[0m \u001b[0mplt\u001b[0m\u001b[1;33m.\u001b[0m\u001b[0mtitle\u001b[0m\u001b[1;33m(\u001b[0m\u001b[1;34m\"loss_function - 2 hidden layers - Train Vs. Test\"\u001b[0m\u001b[1;33m)\u001b[0m\u001b[1;33m\u001b[0m\u001b[1;33m\u001b[0m\u001b[0m\n\u001b[0;32m      5\u001b[0m \u001b[0mplt\u001b[0m\u001b[1;33m.\u001b[0m\u001b[0mlegend\u001b[0m\u001b[1;33m(\u001b[0m\u001b[1;33m[\u001b[0m\u001b[1;34m\"train\"\u001b[0m\u001b[1;33m,\u001b[0m \u001b[1;34m\"test\"\u001b[0m\u001b[1;33m]\u001b[0m\u001b[1;33m)\u001b[0m\u001b[1;33m\u001b[0m\u001b[1;33m\u001b[0m\u001b[0m\n",
      "\u001b[1;31mTypeError\u001b[0m: 'History' object is not subscriptable"
     ]
    }
   ],
   "metadata": {}
  },
  {
   "cell_type": "code",
   "execution_count": 113,
   "source": [
    "# Plot the CEI stock closing price Actual vs. Prediction\r\n",
    "matplotlib.style.use('ggplot')\r\n",
    "results.plot()\r\n",
    "plt.xlabel(\"Date\")\r\n",
    "plt.ylabel(\"Closing Price\")\r\n",
    "plt.title(\"Stock Price Prediction\")"
   ],
   "outputs": [
    {
     "output_type": "execute_result",
     "data": {
      "text/plain": [
       "Text(0.5, 1.0, 'Stock Price Prediction')"
      ]
     },
     "metadata": {},
     "execution_count": 113
    },
    {
     "output_type": "display_data",
     "data": {
      "image/png": "[encoded data removed]",
      "text/plain": [
       "<Figure size 432x288 with 1 Axes>"
      ]
     },
     "metadata": {}
    }
   ],
   "metadata": {}
  }
 ],
 "metadata": {
  "kernelspec": {
   "name": "python3",
   "display_name": "Python 3.7.10 64-bit ('dev': conda)"
  },
  "language_info": {
   "codemirror_mode": {
    "name": "ipython",
    "version": 3
   },
   "file_extension": ".py",
   "mimetype": "text/x-python",
   "name": "python",
   "nbconvert_exporter": "python",
   "pygments_lexer": "ipython3",
   "version": "3.7.10"
  },
  "interpreter": {
   "hash": "b7d1f2948ceac33c47cc3118599163110709bfe8fc361e52a29a1b62bc95a3f6"
  }
 },
 "nbformat": 4,
 "nbformat_minor": 5
}