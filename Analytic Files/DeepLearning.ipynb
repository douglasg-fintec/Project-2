{
 "cells": [
  {
   "cell_type": "markdown",
   "source": [
    "# Neural Network"
   ],
   "metadata": {}
  },
  {
   "cell_type": "code",
   "execution_count": 1,
   "source": [
    "# Import the required libraries and dependencies\r\n",
    "import pandas as pd\r\n",
    "import numpy as np\r\n",
    "from pathlib import Path\r\n",
    "from sklearn.datasets import make_classification\r\n",
    "from sklearn.model_selection import train_test_split\r\n",
    "from sklearn.preprocessing import StandardScaler\r\n",
    "from tensorflow.keras.models import Sequential\r\n",
    "from tensorflow.keras.layers import Dense\r\n",
    "from sklearn.preprocessing import LabelEncoder, StandardScaler\r\n",
    "\r\n",
    "%matplotlib inline"
   ],
   "outputs": [],
   "metadata": {}
  },
  {
   "cell_type": "markdown",
   "source": [
    "## Using a Single Neuron for Binary Classification"
   ],
   "metadata": {}
  },
  {
   "cell_type": "markdown",
   "source": [
    "### Step 1 - Import Stock and Social Media data"
   ],
   "metadata": {}
  },
  {
   "cell_type": "code",
   "execution_count": 2,
   "source": [
    "# Import stock data from .csv file\n",
    "CEI_data = Path(\"../Resources/CEI_data.csv\")\n",
    "CEI_df = pd.read_csv(CEI_data, delimiter=\",\")\n",
    "CEI_df.head()"
   ],
   "outputs": [
    {
     "output_type": "execute_result",
     "data": {
      "text/html": [
       "<div>\n",
       "<style scoped>\n",
       "    .dataframe tbody tr th:only-of-type {\n",
       "        vertical-align: middle;\n",
       "    }\n",
       "\n",
       "    .dataframe tbody tr th {\n",
       "        vertical-align: top;\n",
       "    }\n",
       "\n",
       "    .dataframe thead th {\n",
       "        text-align: right;\n",
       "    }\n",
       "</style>\n",
       "<table border=\"1\" class=\"dataframe\">\n",
       "  <thead>\n",
       "    <tr style=\"text-align: right;\">\n",
       "      <th></th>\n",
       "      <th>time</th>\n",
       "      <th>open</th>\n",
       "      <th>high</th>\n",
       "      <th>low</th>\n",
       "      <th>close</th>\n",
       "      <th>volume</th>\n",
       "    </tr>\n",
       "  </thead>\n",
       "  <tbody>\n",
       "    <tr>\n",
       "      <th>0</th>\n",
       "      <td>2021-08-02 09:00:00-04:00</td>\n",
       "      <td>0.4576</td>\n",
       "      <td>0.4576</td>\n",
       "      <td>0.4566</td>\n",
       "      <td>0.4566</td>\n",
       "      <td>200</td>\n",
       "    </tr>\n",
       "    <tr>\n",
       "      <th>1</th>\n",
       "      <td>2021-08-02 09:15:00-04:00</td>\n",
       "      <td>0.4548</td>\n",
       "      <td>0.4548</td>\n",
       "      <td>0.4546</td>\n",
       "      <td>0.4546</td>\n",
       "      <td>200</td>\n",
       "    </tr>\n",
       "    <tr>\n",
       "      <th>2</th>\n",
       "      <td>2021-08-02 09:30:00-04:00</td>\n",
       "      <td>0.4514</td>\n",
       "      <td>0.4514</td>\n",
       "      <td>0.4498</td>\n",
       "      <td>0.4498</td>\n",
       "      <td>200</td>\n",
       "    </tr>\n",
       "    <tr>\n",
       "      <th>3</th>\n",
       "      <td>2021-08-02 09:45:00-04:00</td>\n",
       "      <td>0.4484</td>\n",
       "      <td>0.4498</td>\n",
       "      <td>0.4484</td>\n",
       "      <td>0.4498</td>\n",
       "      <td>200</td>\n",
       "    </tr>\n",
       "    <tr>\n",
       "      <th>4</th>\n",
       "      <td>2021-08-02 10:15:00-04:00</td>\n",
       "      <td>0.4470</td>\n",
       "      <td>0.4470</td>\n",
       "      <td>0.4470</td>\n",
       "      <td>0.4470</td>\n",
       "      <td>387</td>\n",
       "    </tr>\n",
       "  </tbody>\n",
       "</table>\n",
       "</div>"
      ],
      "text/plain": [
       "                        time    open    high     low   close  volume\n",
       "0  2021-08-02 09:00:00-04:00  0.4576  0.4576  0.4566  0.4566     200\n",
       "1  2021-08-02 09:15:00-04:00  0.4548  0.4548  0.4546  0.4546     200\n",
       "2  2021-08-02 09:30:00-04:00  0.4514  0.4514  0.4498  0.4498     200\n",
       "3  2021-08-02 09:45:00-04:00  0.4484  0.4498  0.4484  0.4498     200\n",
       "4  2021-08-02 10:15:00-04:00  0.4470  0.4470  0.4470  0.4470     387"
      ]
     },
     "metadata": {},
     "execution_count": 2
    }
   ],
   "metadata": {}
  },
  {
   "cell_type": "code",
   "execution_count": null,
   "source": [
    "# Import social media data from .csv file\n",
    "SM_data = Path(\"../Resources/CEI_data.csv\")\n",
    "SM_df = pd.read_csv(CEI_data, delimiter=\",\")\n",
    "SM_df.head()"
   ],
   "outputs": [],
   "metadata": {}
  },
  {
   "cell_type": "code",
   "execution_count": null,
   "source": [
    "# Merge stock and social media dataframe\n",
    "df = CEI_df.merge(SM_df, left_on='time', right_on='time')"
   ],
   "outputs": [],
   "metadata": {}
  },
  {
   "cell_type": "markdown",
   "source": [
    "### Step 2 - Encoded Data"
   ],
   "metadata": {}
  },
  {
   "cell_type": "code",
   "execution_count": null,
   "source": [
    "# Split target column from dataset\n",
    "y = df['Close']\n",
    "X = df.drop(columns='Close')\n",
    "\n",
    "# Set Index\n",
    "X = X.set_index('id')\n",
    "\n",
    "# Binary encoding using Pandas (multiple columns) for Social Media Data\n",
    "X = pd.get_dummies(X)\n",
    "\n",
    "X.head()"
   ],
   "outputs": [],
   "metadata": {}
  },
  {
   "cell_type": "markdown",
   "source": [
    "### Step 3 - Scaling Data"
   ],
   "metadata": {}
  },
  {
   "cell_type": "code",
   "execution_count": null,
   "source": [
    "# Splitting into Train and Test sets\n",
    "X_train, X_test, y_train, y_test = train_test_split(X, y, random_state=1)\n",
    "\n",
    "# Creating the scaler instance\n",
    "scaler = StandardScaler()\n",
    "\n",
    "# Fitting the scaler\n",
    "X_scaler = scaler.fit(X_train)\n",
    "\n",
    "# Scaling data\n",
    "X_train_scaled = X_scaler.transform(X_train)\n",
    "X_test_scaled = X_scaler.transform(X_test)"
   ],
   "outputs": [],
   "metadata": {}
  },
  {
   "cell_type": "markdown",
   "source": [
    "### Step 4 - Neural Network Model Creation"
   ],
   "metadata": {}
  },
  {
   "cell_type": "markdown",
   "source": [
    "#### Add the layers of Neural Network"
   ],
   "metadata": {}
  },
  {
   "cell_type": "code",
   "execution_count": null,
   "source": [
    "# Create a sequential model\n",
    "neuron = Sequential()\n",
    "\n",
    "# First layer of Neural Network\n",
    "number_inputs = 3\n",
    "number_hidden_nodes = 6\n",
    "\n",
    "neuron.add(Dense(units=number_hidden_nodes, activation=\"relu\", input_dim=number_inputs))\n",
    "\n",
    "# Create the second hidden layer\n",
    "number_hidden_nodes2 = 2\n",
    "\n",
    "neuron.add(Dense(units=number_hidden_nodes2, activation=\"relu\"))\n",
    "\n",
    "# Output layer\n",
    "output_nodes = 1\n",
    "\n",
    "neuron.add(Dense(units=output_nodes, activation=\"linear\"))\n",
    "\n",
    "# Model summary\n",
    "neuron.summary()\n",
    "\n",
    "## Compile model\n",
    "## neuron.compile(loss=\"binary_crossentropy\", optimizer=\"adam\", metrics=[\"accuracy\"])\n",
    "\n",
    "# Compile the model \n",
    "# Set the parameters as mean_squared_error, adam, and mse.\n",
    "neuron.compile(loss=\"mean_squared_error\", optimizer=\"adam\", metrics=[\"mse\"])"
   ],
   "outputs": [],
   "metadata": {}
  },
  {
   "cell_type": "code",
   "execution_count": null,
   "source": [
    "# Fit the model\n",
    "# The validation split parameter splits the data into testing and training sets.\n",
    "model = neuron.fit(X, y, validation_split=0.3, epochs=800, verbose=0)"
   ],
   "outputs": [],
   "metadata": {}
  },
  {
   "cell_type": "markdown",
   "source": [
    "#### Evaluate the Model"
   ],
   "metadata": {}
  },
  {
   "cell_type": "code",
   "execution_count": null,
   "source": [
    "# Plotting the Loss Function and Accuracy\n",
    "# Create a DataFrame with the history dictionary\n",
    "df = pd.DataFrame(model.history, index=range(1, len(model.history[\"loss\"]) + 1))\n",
    "\n",
    "# Plot the loss\n",
    "df.plot(y=\"loss\")"
   ],
   "outputs": [],
   "metadata": {}
  },
  {
   "cell_type": "code",
   "execution_count": null,
   "source": [
    "# Plot the accuracy\n",
    "df.plot(y=\"accuracy\")"
   ],
   "outputs": [],
   "metadata": {}
  },
  {
   "cell_type": "code",
   "execution_count": null,
   "source": [
    "# Evaluate the model using the testing data\n",
    "model_loss, model_accuracy = neuron.evaluate(X_test_scaled, y_test, verbose=2)\n",
    "print(f\"Loss: {model_loss}, Accuracy: {model_accuracy}\")"
   ],
   "outputs": [],
   "metadata": {}
  },
  {
   "cell_type": "markdown",
   "source": [
    "### Step 5 - Prediction"
   ],
   "metadata": {}
  },
  {
   "cell_type": "code",
   "execution_count": null,
   "source": [
    "# Making predictions\n",
    "predictions = neuron.predict_classes(X_test_scaled)\n",
    "results = pd.DataFrame({\"predictions\": predictions.ravel(), \"actual\": y_test.ravel()})\n",
    "results.head(10)"
   ],
   "outputs": [],
   "metadata": {}
  },
  {
   "cell_type": "code",
   "execution_count": null,
   "source": [
    "# Plot train vs test for the deep neural net\n",
    "plt.plot(neuron.history[\"loss\"])\n",
    "plt.plot(neuron.history[\"val_loss\"])\n",
    "plt.title(\"loss_function - 2 hidden layers - Train Vs. Test\")\n",
    "plt.legend([\"train\", \"test\"])\n",
    "plt.show()"
   ],
   "outputs": [],
   "metadata": {}
  },
  {
   "cell_type": "code",
   "execution_count": null,
   "source": [
    "# Plot the CEI stock closing price Actual vs. Prediction\n",
    "matplotlib.style.use('ggplot')\n",
    "results.plot()\n",
    "plt.xlabel(\"Date\")\n",
    "plt.ylabel(\"Closing Price\")\n",
    "plt.title(\"Stock Price Prediction\")"
   ],
   "outputs": [],
   "metadata": {}
  }
 ],
 "metadata": {
  "kernelspec": {
   "display_name": "Python 3",
   "language": "python",
   "name": "python3"
  },
  "language_info": {
   "codemirror_mode": {
    "name": "ipython",
    "version": 3
   },
   "file_extension": ".py",
   "mimetype": "text/x-python",
   "name": "python",
   "nbconvert_exporter": "python",
   "pygments_lexer": "ipython3",
   "version": "3.7.10"
  }
 },
 "nbformat": 4,
 "nbformat_minor": 5
}