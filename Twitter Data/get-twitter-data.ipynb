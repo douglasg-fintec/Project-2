{
 "cells": [
  {
   "cell_type": "code",
   "execution_count": 25,
   "metadata": {},
   "outputs": [],
   "source": [
    "# Import the required libraries and dependencies\r\n",
    "import os\r\n",
    "from pathlib import Path\r\n",
    "import tweepy as tw\r\n",
    "import pandas as pd\r\n",
    "from dotenv import load_dotenv\r\n"
   ]
  },
  {
   "cell_type": "code",
   "execution_count": 26,
   "metadata": {},
   "outputs": [
    {
     "data": {
      "text/plain": [
       "''"
      ]
     },
     "execution_count": 26,
     "metadata": {},
     "output_type": "execute_result"
    }
   ],
   "source": [
    "# Load the .env file into the notebook\r\n",
    "\r\n",
    "load_dotenv()\r\n",
    "\r\n",
    "# Read in Twitter API keys and API secrets\r\n",
    "consumer_key=consumer_key = os.getenv(\"TWITTER_CONSUMER_KEY\")\r\n",
    "consumer_secret = os.getenv(\"TWITTER_CONSUMER_SECRET\")\r\n",
    "access_token = os.getenv(\"TWITTER_ACCESS_TOKEN\")\r\n",
    "access_token_secret =os.getenv(\"TWITTER_ACCESS_TOKEN_SECRET\")\r\n",
    "\r\n",
    "# Read in Twitter Bearer Token\r\n",
    "bearer_token = os.getenv(\"TWITTER_BEARER_TOKEN\") \r\n",
    "\r\n",
    "access_token_secret\r\n"
   ]
  },
  {
   "cell_type": "code",
   "execution_count": 21,
   "metadata": {},
   "outputs": [
    {
     "ename": "TweepyException",
     "evalue": "Expected token_type to equal \"bearer\", but got None instead",
     "output_type": "error",
     "traceback": [
      "\u001b[1;31m---------------------------------------------------------------------------\u001b[0m",
      "\u001b[1;31mTweepyException\u001b[0m                           Traceback (most recent call last)",
      "\u001b[1;32m<ipython-input-21-62c5c9c0602a>\u001b[0m in \u001b[0;36m<module>\u001b[1;34m\u001b[0m\n\u001b[0;32m      1\u001b[0m \u001b[1;31m# Authenticate\u001b[0m\u001b[1;33m\u001b[0m\u001b[1;33m\u001b[0m\u001b[1;33m\u001b[0m\u001b[0m\n\u001b[1;32m----> 2\u001b[1;33m \u001b[0mauth\u001b[0m \u001b[1;33m=\u001b[0m \u001b[0mtw\u001b[0m\u001b[1;33m.\u001b[0m\u001b[0mAppAuthHandler\u001b[0m\u001b[1;33m(\u001b[0m\u001b[0mconsumer_key\u001b[0m\u001b[1;33m,\u001b[0m \u001b[0mconsumer_secret\u001b[0m\u001b[1;33m)\u001b[0m\u001b[1;33m\u001b[0m\u001b[1;33m\u001b[0m\u001b[0m\n\u001b[0m\u001b[0;32m      3\u001b[0m \u001b[0mapi\u001b[0m \u001b[1;33m=\u001b[0m \u001b[0mtw\u001b[0m\u001b[1;33m.\u001b[0m\u001b[0mAPI\u001b[0m\u001b[1;33m(\u001b[0m\u001b[0mauth\u001b[0m\u001b[1;33m,\u001b[0m \u001b[0mwait_on_rate_limit\u001b[0m\u001b[1;33m=\u001b[0m\u001b[1;32mTrue\u001b[0m\u001b[1;33m)\u001b[0m\u001b[1;33m\u001b[0m\u001b[1;33m\u001b[0m\u001b[0m\n",
      "\u001b[1;32mC:\\ProgramData\\Anaconda3\\envs\\dev\\lib\\site-packages\\tweepy\\auth.py\u001b[0m in \u001b[0;36m__init__\u001b[1;34m(self, consumer_key, consumer_secret)\u001b[0m\n\u001b[0;32m    158\u001b[0m         \u001b[0mdata\u001b[0m \u001b[1;33m=\u001b[0m \u001b[0mresp\u001b[0m\u001b[1;33m.\u001b[0m\u001b[0mjson\u001b[0m\u001b[1;33m(\u001b[0m\u001b[1;33m)\u001b[0m\u001b[1;33m\u001b[0m\u001b[1;33m\u001b[0m\u001b[0m\n\u001b[0;32m    159\u001b[0m         \u001b[1;32mif\u001b[0m \u001b[0mdata\u001b[0m\u001b[1;33m.\u001b[0m\u001b[0mget\u001b[0m\u001b[1;33m(\u001b[0m\u001b[1;34m'token_type'\u001b[0m\u001b[1;33m)\u001b[0m \u001b[1;33m!=\u001b[0m \u001b[1;34m'bearer'\u001b[0m\u001b[1;33m:\u001b[0m\u001b[1;33m\u001b[0m\u001b[1;33m\u001b[0m\u001b[0m\n\u001b[1;32m--> 160\u001b[1;33m             raise TweepyException('Expected token_type to equal \"bearer\", '\n\u001b[0m\u001b[0;32m    161\u001b[0m                                   f'but got {data.get(\"token_type\")} instead')\n\u001b[0;32m    162\u001b[0m \u001b[1;33m\u001b[0m\u001b[0m\n",
      "\u001b[1;31mTweepyException\u001b[0m: Expected token_type to equal \"bearer\", but got None instead"
     ]
    }
   ],
   "source": [
    "# Authenticate \r\n",
    "auth = tw.AppAuthHandler(consumer_key, consumer_secret)\r\n",
    "api = tw.API(auth, wait_on_rate_limit=True)\r\n"
   ]
  },
  {
   "cell_type": "code",
   "execution_count": 7,
   "metadata": {},
   "outputs": [],
   "source": [
    "\r\n",
    "#enter your words to create query\r\n",
    "search_words = \"#CEI\"      \r\n",
    "search_query = search_words + \" -filter:retweets\"\r\n",
    "\r\n",
    "# Set Tweet Search Parameters\r\n",
    "fromDate=\"202010010000\"\r\n",
    "toDate=\"202010010000\"\r\n",
    "\r\n",
    "    #Get tweets\r\n",
    "tweets = tw.Cursor(api.search_tweets, \r\n",
    "    q=search_query, \r\n",
    "    lang='en',\r\n",
    "    result_type=\"mixed\").items(50)\r\n",
    "\r\n",
    " # Store the API responses in a list\r\n",
    "tweets_copy = []\r\n",
    "for tweet in tweets:\r\n",
    "    tweets_copy.append(tweet)                                                                                                                                                                                                                                                                                                                                                                                                                                                                                                                                                                                                                                                                                                                                                                                                                                                                                                                                                                                                                                                                                                                                                                                                                                                                                                                                                                                                                                                                                                                                                                                            "
   ]
  },
  {
   "cell_type": "code",
   "execution_count": 1,
   "metadata": {},
   "outputs": [
    {
     "ename": "NameError",
     "evalue": "name 'pd' is not defined",
     "output_type": "error",
     "traceback": [
      "\u001b[1;31m---------------------------------------------------------------------------\u001b[0m",
      "\u001b[1;31mNameError\u001b[0m                                 Traceback (most recent call last)",
      "\u001b[1;32m<ipython-input-1-8a31e3263752>\u001b[0m in \u001b[0;36m<module>\u001b[1;34m\u001b[0m\n\u001b[0;32m      1\u001b[0m \u001b[1;31m#Inialize the dataframe\u001b[0m\u001b[1;33m\u001b[0m\u001b[1;33m\u001b[0m\u001b[1;33m\u001b[0m\u001b[0m\n\u001b[0;32m      2\u001b[0m \u001b[1;33m\u001b[0m\u001b[0m\n\u001b[1;32m----> 3\u001b[1;33m \u001b[0mtweets_df\u001b[0m \u001b[1;33m=\u001b[0m\u001b[0mpd\u001b[0m\u001b[1;33m.\u001b[0m\u001b[0mDataFrame\u001b[0m\u001b[1;33m(\u001b[0m\u001b[1;33m)\u001b[0m\u001b[1;33m\u001b[0m\u001b[1;33m\u001b[0m\u001b[0m\n\u001b[0m\u001b[0;32m      4\u001b[0m \u001b[1;33m\u001b[0m\u001b[0m\n\u001b[0;32m      5\u001b[0m \u001b[1;31m# intialize the dataframe\u001b[0m\u001b[1;33m\u001b[0m\u001b[1;33m\u001b[0m\u001b[1;33m\u001b[0m\u001b[0m\n",
      "\u001b[1;31mNameError\u001b[0m: name 'pd' is not defined"
     ]
    }
   ],
   "source": [
    "#Inialize the dataframe\r\n",
    "\r\n",
    "tweets_df =pd.DataFrame()\r\n",
    "\r\n",
    "# intialize the dataframe\r\n",
    "tweets_df = pd.DataFrame()\r\n",
    "\r\n",
    "# populate the dataframe\r\n",
    "for tweet in tweets_copy:\r\n",
    "    hashtags = []\r\n",
    "    try:\r\n",
    "        for hashtag in tweet.entities[\"hashtags\"]:\r\n",
    "            hashtags.append(hashtag[\"text\"])\r\n",
    "        text = api.get_status(id=tweet.id, tweet_mode='extended').full_text\r\n",
    "    except:\r\n",
    "        pass\r\n",
    "    tweets_df = tweets_df.append(pd.DataFrame({'user_name': tweet.user.name, \r\n",
    "                                               'user_location': tweet.user.location,\\\r\n",
    "                                               'user_description': tweet.user.description,\r\n",
    "                                               'user_verified': tweet.user.verified,\r\n",
    "                                               'date': tweet.created_at,\r\n",
    "                                               'text': text, \r\n",
    "                                               'hashtags': [hashtags if hashtags else None],\r\n",
    "                                               'source': tweet.source}))\r\n",
    "    tweets_df = tweets_df.reset_index(drop=True)\r\n",
    "\r\n",
    "# show the dataframe\r\n",
    "tweets_df.head()"
   ]
  },
  {
   "cell_type": "code",
   "execution_count": 14,
   "metadata": {},
   "outputs": [],
   "source": [
    "# Write tweet dataframe to a CSV file\r\n",
    "tweets_df.to_csv(Path('./Resources/twitter_data.csv'),encoding='utf-8',index=None,header=True)\r\n"
   ]
  }
 ],
 "metadata": {
  "interpreter": {
   "hash": "b3ba2566441a7c06988d0923437866b63cedc61552a5af99d1f4fb67d367b25f"
  },
  "kernelspec": {
   "display_name": "Python 3.8.8 64-bit ('base': conda)",
   "name": "python3"
  },
  "language_info": {
   "codemirror_mode": {
    "name": "ipython",
    "version": 3
   },
   "file_extension": ".py",
   "mimetype": "text/x-python",
   "name": "python",
   "nbconvert_exporter": "python",
   "pygments_lexer": "ipython3",
   "version": "3.9.4"
  },
  "orig_nbformat": 4
 },
 "nbformat": 4,
 "nbformat_minor": 2
}