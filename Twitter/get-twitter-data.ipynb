{
 "cells": [
  {
   "cell_type": "code",
   "execution_count": 15,
   "metadata": {},
   "outputs": [],
   "source": [
    "# Import the required libraries and dependencies\r\n",
    "import os\r\n",
    "from pathlib import Path\r\n",
    "import tweepy as tw\r\n",
    "import pandas as pd\r\n",
    "from dotenv import load_dotenv\r\n",
    "from pathlib import Path\r\n",
    "import csv\r\n",
    "\r\n"
   ]
  },
  {
   "cell_type": "code",
   "execution_count": 16,
   "metadata": {},
   "outputs": [],
   "source": [
    "# Load the .env file into the notebook\r\n",
    "\r\n",
    "load_dotenv()\r\n",
    "\r\n",
    "# Read in Twitter API keys and API secrets\r\n",
    "consumer_key=consumer_key = os.getenv(\"TWITTER_CONSUMER_KEY\")\r\n",
    "consumer_secret = os.getenv(\"TWITTER_CONSUMER_SECRET\")\r\n",
    "access_token = os.getenv(\"TWITTER_ACCESS_TOKEN\")\r\n",
    "access_token_secret =os.getenv(\"TWITTER_ACCESS_TOKEN_SECRET\")\r\n",
    "\r\n",
    "# Read in Twitter Bearer Token\r\n",
    "bearer_token = os.getenv(\"TWITTER_BEARER_TOKEN\") \r\n"
   ]
  },
  {
   "cell_type": "code",
   "execution_count": 18,
   "metadata": {},
   "outputs": [],
   "source": [
    "# Authenticate \r\n",
    "auth = tw.AppAuthHandler(consumer_key, consumer_secret)\r\n",
    "\r\n",
    "#Instanciate API class\r\n",
    "api = tw.API(auth, wait_on_rate_limit=True)\r\n",
    "\r\n",
    "#set count to however many tweets you want - max count is 3200 \r\n",
    "number_of_tweets = 5000\r\n",
    "\r\n",
    "#enter your words to create query\r\n",
    "search_words = \"CEI\"      \r\n",
    "search_query = search_words + \" -filter:retweets\"\r\n",
    "\r\n",
    "# Set Tweet Search Parameters\r\n",
    "fromDate=\"202010010000\"\r\n",
    "toDate=\"202010010000\"\r\n"
   ]
  },
  {
   "cell_type": "code",
   "execution_count": 19,
   "metadata": {},
   "outputs": [],
   "source": [
    "\r\n",
    "# Get Tweets\r\n",
    "\r\n",
    "tweets_file = []\r\n",
    "\r\n",
    "for tweet in tw.Cursor(api.search_tweets, q=search_query, lang='en', result_type=\"mixed\").items(50):\r\n",
    "   tweet_id = tweet.id\r\n",
    "   text = api.get_status(id=tweet.id, tweet_mode='extended').full_text.encode(\"utf-8\")\r\n",
    "   date = tweet.created_at.strftime(\"%Y-%m-%d %H:%M:%S\")\r\n",
    "   \r\n",
    "#write to a new csv file from the array of tweets\r\n",
    "outfile = Path(\"../Resources/twitter_data.csv\")\r\n",
    "#print (f'Writing to {outfile}')\r\n",
    "with open(outfile, 'w+') as file:\r\n",
    "    writer = csv.writer(file, delimiter=',')\r\n",
    "    writer.writerow(['Tweet_ID', 'Created_date','Tweet'])\r\n",
    "    writer.writerows(tweets_file)                                                                                                                                                                                                                                                                                                                                                                                                                                                                                                                                                                                                                                                                                                                                                                                                                                                                                                                                                                                                                                                                                                                                                                                                                                                                                                                                                                                                                                                                                                                                                                                                  "
   ]
  },
  {
   "cell_type": "code",
   "execution_count": 1,
   "metadata": {},
   "outputs": [
    {
     "ename": "NameError",
     "evalue": "name 'pd' is not defined",
     "output_type": "error",
     "traceback": [
      "\u001b[1;31m---------------------------------------------------------------------------\u001b[0m",
      "\u001b[1;31mNameError\u001b[0m                                 Traceback (most recent call last)",
      "\u001b[1;32m<ipython-input-1-8a31e3263752>\u001b[0m in \u001b[0;36m<module>\u001b[1;34m\u001b[0m\n\u001b[0;32m      1\u001b[0m \u001b[1;31m#Inialize the dataframe\u001b[0m\u001b[1;33m\u001b[0m\u001b[1;33m\u001b[0m\u001b[1;33m\u001b[0m\u001b[0m\n\u001b[0;32m      2\u001b[0m \u001b[1;33m\u001b[0m\u001b[0m\n\u001b[1;32m----> 3\u001b[1;33m \u001b[0mtweets_df\u001b[0m \u001b[1;33m=\u001b[0m\u001b[0mpd\u001b[0m\u001b[1;33m.\u001b[0m\u001b[0mDataFrame\u001b[0m\u001b[1;33m(\u001b[0m\u001b[1;33m)\u001b[0m\u001b[1;33m\u001b[0m\u001b[1;33m\u001b[0m\u001b[0m\n\u001b[0m\u001b[0;32m      4\u001b[0m \u001b[1;33m\u001b[0m\u001b[0m\n\u001b[0;32m      5\u001b[0m \u001b[1;31m# intialize the dataframe\u001b[0m\u001b[1;33m\u001b[0m\u001b[1;33m\u001b[0m\u001b[1;33m\u001b[0m\u001b[0m\n",
      "\u001b[1;31mNameError\u001b[0m: name 'pd' is not defined"
     ]
    }
   ],
   "source": [
    "#Inialize the dataframe\r\n",
    "\r\n",
    "tweets_df =pd.DataFrame()\r\n",
    "\r\n",
    "# intialize the dataframe\r\n",
    "tweets_df = pd.DataFrame()\r\n",
    "\r\n",
    "# populate the dataframe\r\n",
    "for tweet in tweets_copy:\r\n",
    "    hashtags = []\r\n",
    "    try:\r\n",
    "        for hashtag in tweet.entities[\"hashtags\"]:\r\n",
    "            hashtags.append(hashtag[\"text\"])\r\n",
    "        text = api.get_status(id=tweet.id, tweet_mode='extended').full_text\r\n",
    "    except:\r\n",
    "        pass\r\n",
    "    tweets_df = tweets_df.append(pd.DataFrame({'user_name': tweet.user.name, \r\n",
    "                                               'user_location': tweet.user.location,\\\r\n",
    "                                               'user_description': tweet.user.description,\r\n",
    "                                               'user_verified': tweet.user.verified,\r\n",
    "                                               'date': tweet.created_at,\r\n",
    "                                               'text': text, \r\n",
    "                                               'hashtags': [hashtags if hashtags else None],\r\n",
    "                                               'source': tweet.source}))\r\n",
    "    tweets_df = tweets_df.reset_index(drop=True)\r\n",
    "\r\n",
    "# show the dataframe\r\n",
    "tweets_df.head()"
   ]
  },
  {
   "cell_type": "code",
   "execution_count": 14,
   "metadata": {},
   "outputs": [],
   "source": [
    "# Write tweet dataframe to a CSV file\r\n",
    "tweets_df.to_csv(Path('./Resources/twitter_data.csv'),encoding='utf-8',index=None,header=True)\r\n"
   ]
  }
 ],
 "metadata": {
  "interpreter": {
   "hash": "b3ba2566441a7c06988d0923437866b63cedc61552a5af99d1f4fb67d367b25f"
  },
  "kernelspec": {
   "display_name": "Python 3.8.8 64-bit ('base': conda)",
   "name": "python3"
  },
  "language_info": {
   "codemirror_mode": {
    "name": "ipython",
    "version": 3
   },
   "file_extension": ".py",
   "mimetype": "text/x-python",
   "name": "python",
   "nbconvert_exporter": "python",
   "pygments_lexer": "ipython3",
   "version": "3.9.4"
  },
  "orig_nbformat": 4
 },
 "nbformat": 4,
 "nbformat_minor": 2
}