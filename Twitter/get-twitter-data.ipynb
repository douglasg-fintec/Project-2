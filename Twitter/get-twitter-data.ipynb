{
 "cells": [
  {
   "cell_type": "code",
   "execution_count": 27,
   "metadata": {},
   "outputs": [],
   "source": [
    "# Import the required libraries and dependencies\r\n",
    "import os\r\n",
    "import time\r\n",
    "from pathlib import Path\r\n",
    "import tweepy as tw\r\n",
    "import pandas as pd\r\n",
    "from dotenv import load_dotenv\r\n",
    "import csv\r\n",
    "import datetime\r\n",
    "from datetime import date,timedelta\r\n"
   ]
  },
  {
   "cell_type": "code",
   "execution_count": 30,
   "metadata": {},
   "outputs": [],
   "source": [
    "# Load the .env file into the notebook\r\n",
    "\r\n",
    "load_dotenv()\r\n",
    "\r\n",
    "# Read in Twitter API keys and API secrets\r\n",
    "consumer_key=consumer_key = os.getenv(\"TWITTER_CONSUMER_KEY\")\r\n",
    "consumer_secret = os.getenv(\"TWITTER_CONSUMER_SECRET\")\r\n",
    "access_token = os.getenv(\"TWITTER_ACCESS_TOKEN\")\r\n",
    "access_token_secret =os.getenv(\"TWITTER_ACCESS_TOKEN_SECRET\")\r\n",
    "\r\n",
    "# Read in Twitter Bearer Token\r\n",
    "bearer_token = os.getenv(\"TWITTER_BEARER_TOKEN\")\r\n"
   ]
  },
  {
   "cell_type": "code",
   "execution_count": 19,
   "metadata": {},
   "outputs": [],
   "source": [
    "# Authenticate \r\n",
    "auth = tw.AppAuthHandler(consumer_key, consumer_secret)\r\n",
    "\r\n",
    "# Create the api to connect to twitter with your creadentials\r\n",
    "api = tw.API(auth, wait_on_rate_limit=False)\r\n",
    "\r\n",
    "#set count to however many tweets you want - max count is 3200 \r\n",
    "number_of_tweets = 5000\r\n"
   ]
  },
  {
   "cell_type": "code",
   "execution_count": 32,
   "metadata": {},
   "outputs": [
    {
     "name": "stdout",
     "output_type": "stream",
     "text": [
      "2021-10-04\n",
      "2021-10-03\n"
     ]
    }
   ],
   "source": [
    "today = datetime.date(2021,10,4)\r\n",
    "yesterday = today-datetime.timedelta(days=1)\r\n",
    "\r\n",
    "print(today)\r\n",
    "print(yesterday)"
   ]
  },
  {
   "cell_type": "code",
   "execution_count": 22,
   "metadata": {},
   "outputs": [
    {
     "name": "stdout",
     "output_type": "stream",
     "text": [
      "2021-10-10\n",
      "2021-10-09\n"
     ]
    }
   ],
   "source": [
    "today = datetime.date.today()\r\n",
    "#today = today - datetime.timedelta(days=2)\r\n",
    "yesterday = today - datetime.timedelta(days=1)\r\n",
    "\r\n",
    "print(today)\r\n",
    "print(yesterday)"
   ]
  },
  {
   "cell_type": "code",
   "execution_count": null,
   "metadata": {},
   "outputs": [],
   "source": [
    "# Set the time constraints for ther searh query\r\n",
    "\r\n",
    "#today = datetime.date.today()\r\n",
    "#today = today - datetime.timedelta(days=7)\r\n",
    "#yesterday = today - datetime.timedelta(days=1)\r\n",
    "\r\n",
    "tweets_list = tw.Cursor(api.search_tweets, q=\"CEI OR Cei OR cei since:\" + str(yesterday)+ \" until:\" + str(today) + \"-filter:retweets\" ,tweet_mode='extended', lang='en').items()\r\n",
    "\r\n",
    "# Iterate throught the collection of tweets returned\r\n",
    "\r\n",
    "output = []\r\n",
    "\r\n",
    "#loop throught the cursor and assign fields from the tweets\r\n",
    "for tweet in tweets_list:\r\n",
    "    text_extened = tweet._json[\"full_text\"]\r\n",
    "    created_at = tweet.created_at.strftime(\"%Y-%m-%d %H:%M:%S\")\r\n",
    "    user_location = tweet.user.location\r\n",
    "\r\n",
    "# Grab the subset of data\r\n",
    "    line = [created_at, text_extened,user_location]  \r\n",
    "    output.append(line)\r\n",
    "\r\n",
    "#write to a new csv file from the array of tweets\r\n",
    "outfile = Path(\"./twitter_data.csv\")\r\n",
    "print (f'Writing to {outfile}')\r\n",
    "with open(outfile, 'a+') as file:\r\n",
    "    writer = csv.writer(file, delimiter=',')\r\n",
    "    writer.writerows(output)     \r\n",
    "\r\n",
    "print(today)\r\n",
    "print(yesterday)"
   ]
  },
  {
   "cell_type": "code",
   "execution_count": null,
   "metadata": {},
   "outputs": [],
   "source": []
  }
 ],
 "metadata": {
  "interpreter": {
   "hash": "0a6b53b808be22ed9015cf5d408376640e4deef689ef9b186ab992a818d0bc32"
  },
  "kernelspec": {
   "display_name": "Python 3.9.4 64-bit ('dev': conda)",
   "name": "python3"
  },
  "language_info": {
   "codemirror_mode": {
    "name": "ipython",
    "version": 3
   },
   "file_extension": ".py",
   "mimetype": "text/x-python",
   "name": "python",
   "nbconvert_exporter": "python",
   "pygments_lexer": "ipython3",
   "version": "3.9.4"
  },
  "orig_nbformat": 4
 },
 "nbformat": 4,
 "nbformat_minor": 2
}