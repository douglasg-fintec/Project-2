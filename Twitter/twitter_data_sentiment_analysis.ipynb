{
 "cells": [
  {
   "cell_type": "code",
   "execution_count": 1,
   "metadata": {},
   "outputs": [],
   "source": [
    "#Get Imports\r\n",
    "import os\r\n",
    "import re\r\n",
    "from pathlib import Path\r\n",
    "import pandas as pd\r\n",
    "from dotenv import load_dotenv\r\n",
    "import nltk\r\n",
    "import numpy as np\r\n",
    "from nltk.sentiment.vader import SentimentIntensityAnalyzer\r\n"
   ]
  },
  {
   "cell_type": "code",
   "execution_count": 2,
   "metadata": {},
   "outputs": [
    {
     "name": "stderr",
     "output_type": "stream",
     "text": [
      "[nltk_data] Downloading package vader_lexicon to\n",
      "[nltk_data]     C:\\Users\\douglasg\\AppData\\Roaming\\nltk_data...\n",
      "[nltk_data]   Package vader_lexicon is already up-to-date!\n"
     ]
    }
   ],
   "source": [
    "# Download/Update the VADER Lexicon\r\n",
    "nltk.download(\"vader_lexicon\")\r\n",
    "\r\n",
    "# Initialize the VADER sentiment analyzer\r\n",
    "analyzer = SentimentIntensityAnalyzer()\r\n"
   ]
  },
  {
   "cell_type": "code",
   "execution_count": 6,
   "metadata": {},
   "outputs": [
    {
     "data": {
      "text/html": [
       "<div>\n",
       "<style scoped>\n",
       "    .dataframe tbody tr th:only-of-type {\n",
       "        vertical-align: middle;\n",
       "    }\n",
       "\n",
       "    .dataframe tbody tr th {\n",
       "        vertical-align: top;\n",
       "    }\n",
       "\n",
       "    .dataframe thead th {\n",
       "        text-align: right;\n",
       "    }\n",
       "</style>\n",
       "<table border=\"1\" class=\"dataframe\">\n",
       "  <thead>\n",
       "    <tr style=\"text-align: right;\">\n",
       "      <th></th>\n",
       "      <th>Unnamed: 0</th>\n",
       "      <th>tweet</th>\n",
       "      <th>date</th>\n",
       "    </tr>\n",
       "  </thead>\n",
       "  <tbody>\n",
       "    <tr>\n",
       "      <th>0</th>\n",
       "      <td>0</td>\n",
       "      <td>'joi, humiliation tasks, and foot worship sess...</td>\n",
       "      <td>2021-10-03 23:59:05</td>\n",
       "    </tr>\n",
       "    <tr>\n",
       "      <th>1</th>\n",
       "      <td>1</td>\n",
       "      <td>'we have two choice hold $cei or sell $cei . y...</td>\n",
       "      <td>2021-10-03 23:58:54</td>\n",
       "    </tr>\n",
       "    <tr>\n",
       "      <th>2</th>\n",
       "      <td>2</td>\n",
       "      <td>'anyone selling foot or lip pics dm me or comm...</td>\n",
       "      <td>2021-10-03 23:51:15</td>\n",
       "    </tr>\n",
       "    <tr>\n",
       "      <th>3</th>\n",
       "      <td>3</td>\n",
       "      <td>'rt : stocks i\\xe2\\x80\\x99m either in or watch...</td>\n",
       "      <td>2021-10-03 23:49:44</td>\n",
       "    </tr>\n",
       "    <tr>\n",
       "      <th>4</th>\n",
       "      <td>4</td>\n",
       "      <td>'stocks i\\xe2\\x80\\x99m either in or watching t...</td>\n",
       "      <td>2021-10-03 23:47:22</td>\n",
       "    </tr>\n",
       "  </tbody>\n",
       "</table>\n",
       "</div>"
      ],
      "text/plain": [
       "   Unnamed: 0                                              tweet  \\\n",
       "0           0  'joi, humiliation tasks, and foot worship sess...   \n",
       "1           1  'we have two choice hold $cei or sell $cei . y...   \n",
       "2           2  'anyone selling foot or lip pics dm me or comm...   \n",
       "3           3  'rt : stocks i\\xe2\\x80\\x99m either in or watch...   \n",
       "4           4  'stocks i\\xe2\\x80\\x99m either in or watching t...   \n",
       "\n",
       "                  date  \n",
       "0  2021-10-03 23:59:05  \n",
       "1  2021-10-03 23:58:54  \n",
       "2  2021-10-03 23:51:15  \n",
       "3  2021-10-03 23:49:44  \n",
       "4  2021-10-03 23:47:22  "
      ]
     },
     "execution_count": 6,
     "metadata": {},
     "output_type": "execute_result"
    }
   ],
   "source": [
    "# Load news from CSV file\r\n",
    "file_path = Path(\"../Twitter/twitter_data_CLEANED.csv\")\r\n",
    "tweets_df = pd.read_csv(file_path, encoding=\"utf-8-sig\")\r\n",
    "tweets_df.head()\r\n"
   ]
  },
  {
   "cell_type": "code",
   "execution_count": 7,
   "metadata": {},
   "outputs": [],
   "source": [
    "def get_sentiment(score):\r\n",
    "    \"\"\"\r\n",
    "    Calculates the sentiment based on the compound score.\r\n",
    "    \"\"\"\r\n",
    "    result = 0  # Neutral by default\r\n",
    "    if score >= 0.05:  # Positive\r\n",
    "        result = 1\r\n",
    "    elif score <= -0.05:  # Negative\r\n",
    "        result = -1\r\n",
    "\r\n",
    "    return result"
   ]
  },
  {
   "cell_type": "code",
   "execution_count": 9,
   "metadata": {},
   "outputs": [
    {
     "ename": "KeyError",
     "evalue": "'text_compound'",
     "output_type": "error",
     "traceback": [
      "\u001b[1;31m---------------------------------------------------------------------------\u001b[0m",
      "\u001b[1;31mKeyError\u001b[0m                                  Traceback (most recent call last)",
      "\u001b[1;32m~\\AppData\\Local\\Temp/ipykernel_9400/1963355321.py\u001b[0m in \u001b[0;36m<module>\u001b[1;34m\u001b[0m\n\u001b[0;32m     14\u001b[0m         \u001b[1;31m# Sentiment scoring with VADER\u001b[0m\u001b[1;33m\u001b[0m\u001b[1;33m\u001b[0m\u001b[1;33m\u001b[0m\u001b[0m\n\u001b[0;32m     15\u001b[0m         \u001b[0mtweet_sentiment\u001b[0m \u001b[1;33m=\u001b[0m \u001b[0manalyzer\u001b[0m\u001b[1;33m.\u001b[0m\u001b[0mpolarity_scores\u001b[0m\u001b[1;33m(\u001b[0m\u001b[0mrow\u001b[0m\u001b[1;33m[\u001b[0m\u001b[1;34m\"tweet\"\u001b[0m\u001b[1;33m]\u001b[0m\u001b[1;33m)\u001b[0m\u001b[1;33m\u001b[0m\u001b[1;33m\u001b[0m\u001b[0m\n\u001b[1;32m---> 16\u001b[1;33m         \u001b[0mtweet_sent\u001b[0m\u001b[1;33m[\u001b[0m\u001b[1;34m\"text_compound\"\u001b[0m\u001b[1;33m]\u001b[0m\u001b[1;33m.\u001b[0m\u001b[0mappend\u001b[0m\u001b[1;33m(\u001b[0m\u001b[0mtweet_sentiment\u001b[0m\u001b[1;33m[\u001b[0m\u001b[1;34m\"compound\"\u001b[0m\u001b[1;33m]\u001b[0m\u001b[1;33m)\u001b[0m\u001b[1;33m\u001b[0m\u001b[1;33m\u001b[0m\u001b[0m\n\u001b[0m\u001b[0;32m     17\u001b[0m         \u001b[0mtweet_sent\u001b[0m\u001b[1;33m[\u001b[0m\u001b[1;34m\"text_pos\"\u001b[0m\u001b[1;33m]\u001b[0m\u001b[1;33m.\u001b[0m\u001b[0mappend\u001b[0m\u001b[1;33m(\u001b[0m\u001b[0mtweet_sentiment\u001b[0m\u001b[1;33m[\u001b[0m\u001b[1;34m\"pos\"\u001b[0m\u001b[1;33m]\u001b[0m\u001b[1;33m)\u001b[0m\u001b[1;33m\u001b[0m\u001b[1;33m\u001b[0m\u001b[0m\n\u001b[0;32m     18\u001b[0m         \u001b[0mtweet_sent\u001b[0m\u001b[1;33m[\u001b[0m\u001b[1;34m\"text_neu\"\u001b[0m\u001b[1;33m]\u001b[0m\u001b[1;33m.\u001b[0m\u001b[0mappend\u001b[0m\u001b[1;33m(\u001b[0m\u001b[0mtweet_sentiment\u001b[0m\u001b[1;33m[\u001b[0m\u001b[1;34m\"neu\"\u001b[0m\u001b[1;33m]\u001b[0m\u001b[1;33m)\u001b[0m\u001b[1;33m\u001b[0m\u001b[1;33m\u001b[0m\u001b[0m\n",
      "\u001b[1;31mKeyError\u001b[0m: 'text_compound'"
     ]
    }
   ],
   "source": [
    "# Sentiment scores dictionaries\r\n",
    "\r\n",
    "tweet_sent = {\r\n",
    "    \"tweet_compound\": [],\r\n",
    "    \"tweet_pos\": [],\r\n",
    "    \"tweet_neu\": [],\r\n",
    "    \"tweet_neg\": [],\r\n",
    "    \"tweet_sent\": [],\r\n",
    "}\r\n",
    "\r\n",
    "# Get sentiment for the text and the title\r\n",
    "for index, row in tweets_df.iterrows():\r\n",
    "    try:\r\n",
    "        # Sentiment scoring with VADER\r\n",
    "        tweet_sentiment = analyzer.polarity_scores(row[\"tweet\"])\r\n",
    "        tweet_sent[\"tweet_compound\"].append(tweet_sentiment[\"compound\"])\r\n",
    "        tweet_sent[\"tweet_pos\"].append(tweet_sentiment[\"pos\"])\r\n",
    "        tweet_sent[\"tweet_neu\"].append(tweet_sentiment[\"neu\"])\r\n",
    "        tweet_sent[\"tweet_neg\"].append(tweet_sentiment[\"neg\"])\r\n",
    "        tweet_sent[\"tweet_sent\"].append(get_sentiment(tweet_sentiment[\"compound\"]))\r\n",
    "    except AttributeError:\r\n",
    "        pass\r\n",
    "\r\n",
    "# Attaching sentiment columns to the News DataFrame\r\n",
    "tweet_sentiment_df = pd.DataFrame(tweet_sent)\r\n",
    "tweets_df =tweets_df.join(tweet_sentiment_df)\r\n",
    "\r\n",
    "tweets_df.head()\r\n"
   ]
  }
 ],
 "metadata": {
  "interpreter": {
   "hash": "b3ba2566441a7c06988d0923437866b63cedc61552a5af99d1f4fb67d367b25f"
  },
  "kernelspec": {
   "display_name": "Python 3.8.8 64-bit ('base': conda)",
   "name": "python3"
  },
  "language_info": {
   "codemirror_mode": {
    "name": "ipython",
    "version": 3
   },
   "file_extension": ".py",
   "mimetype": "text/x-python",
   "name": "python",
   "nbconvert_exporter": "python",
   "pygments_lexer": "ipython3",
   "version": "3.9.4"
  },
  "orig_nbformat": 4
 },
 "nbformat": 4,
 "nbformat_minor": 2
}