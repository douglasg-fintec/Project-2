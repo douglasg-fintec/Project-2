{
 "cells": [
  {
   "cell_type": "code",
   "execution_count": 35,
   "source": [
    "# Import required libraries\r\n",
    "\r\n",
    "from psaw import PushshiftAPI\r\n",
    "import praw\r\n",
    "import datetime as dt\r\n",
    "import pandas as pd\r\n",
    "import csv\r\n",
    "from pathlib import Path\r\n"
   ],
   "outputs": [],
   "metadata": {}
  },
  {
   "cell_type": "code",
   "execution_count": 36,
   "source": [
    "  # Initiate api\r\n",
    "  \r\n",
    "  api = PushshiftAPI()"
   ],
   "outputs": [],
   "metadata": {}
  },
  {
   "cell_type": "code",
   "execution_count": 37,
   "source": [
    "# use serach_submissions to sift through posts in wallstreeetbets\r\n",
    "\r\n",
    "subs = api.search_submissions(\r\n",
    "    q='CEI',\r\n",
    "    subreddit='wallstreetbets'\r\n",
    ")"
   ],
   "outputs": [],
   "metadata": {}
  },
  {
   "cell_type": "code",
   "execution_count": 38,
   "source": [
    "# Create dataframe to hold results\r\n",
    "\r\n",
    "subs_df = pd.DataFrame([submission.d_ for submission in subs])"
   ],
   "outputs": [
    {
     "output_type": "stream",
     "name": "stderr",
     "text": [
      "C:\\Users\\medin\\Anaconda3\\envs\\dev\\lib\\site-packages\\psaw\\PushshiftAPI.py:252: UserWarning: Not all PushShift shards are active. Query results may be incomplete\n",
      "  warnings.warn(shards_down_message)\n"
     ]
    }
   ],
   "metadata": {}
  },
  {
   "cell_type": "code",
   "execution_count": 39,
   "source": [
    "# Determining size of data\r\n",
    "subs_df.shape"
   ],
   "outputs": [
    {
     "output_type": "execute_result",
     "data": {
      "text/plain": [
       "(374, 84)"
      ]
     },
     "metadata": {},
     "execution_count": 39
    }
   ],
   "metadata": {}
  },
  {
   "cell_type": "code",
   "execution_count": 50,
   "source": [
    "# viewing columns to choose required columns\r\n",
    "subs_df.columns"
   ],
   "outputs": [
    {
     "output_type": "execute_result",
     "data": {
      "text/plain": [
       "Index(['all_awardings', 'allow_live_comments', 'author',\n",
       "       'author_flair_background_color', 'author_flair_css_class',\n",
       "       'author_flair_richtext', 'author_flair_text', 'author_flair_text_color',\n",
       "       'author_flair_type', 'author_fullname', 'author_is_blocked',\n",
       "       'author_patreon_flair', 'author_premium', 'awarders', 'can_mod_post',\n",
       "       'contest_mode', 'created_utc', 'domain', 'full_link', 'gildings', 'id',\n",
       "       'is_created_from_ads_ui', 'is_crosspostable', 'is_meta',\n",
       "       'is_original_content', 'is_reddit_media_domain', 'is_robot_indexable',\n",
       "       'is_self', 'is_video', 'link_flair_background_color',\n",
       "       'link_flair_css_class', 'link_flair_richtext', 'link_flair_template_id',\n",
       "       'link_flair_text', 'link_flair_text_color', 'link_flair_type', 'locked',\n",
       "       'media_only', 'no_follow', 'num_comments', 'num_crossposts', 'over_18',\n",
       "       'parent_whitelist_status', 'permalink', 'pinned', 'post_hint',\n",
       "       'preview', 'pwls', 'retrieved_on', 'score', 'selftext', 'send_replies',\n",
       "       'spoiler', 'stickied', 'subreddit', 'subreddit_id',\n",
       "       'subreddit_subscribers', 'subreddit_type', 'suggested_sort',\n",
       "       'thumbnail', 'thumbnail_height', 'thumbnail_width', 'title',\n",
       "       'total_awards_received', 'treatment_tags', 'upvote_ratio', 'url',\n",
       "       'url_overridden_by_dest', 'whitelist_status', 'wls', 'created',\n",
       "       'media_metadata', 'removed_by_category', 'is_gallery', 'gallery_data',\n",
       "       'author_cakeday', 'banned_by', 'og_description', 'og_title',\n",
       "       'steward_reports', 'updated_utc', 'gilded', 'brand_safe', 'rte_mode',\n",
       "       'date'],\n",
       "      dtype='object')"
      ]
     },
     "metadata": {},
     "execution_count": 50
    }
   ],
   "metadata": {}
  },
  {
   "cell_type": "code",
   "execution_count": 41,
   "source": [
    "# Testing column names to review data \r\n",
    "\r\n",
    "subs_df[['author','title','selftext','score','created_utc']].sample(1)"
   ],
   "outputs": [
    {
     "output_type": "execute_result",
     "data": {
      "text/html": [
       "<div>\n",
       "<style scoped>\n",
       "    .dataframe tbody tr th:only-of-type {\n",
       "        vertical-align: middle;\n",
       "    }\n",
       "\n",
       "    .dataframe tbody tr th {\n",
       "        vertical-align: top;\n",
       "    }\n",
       "\n",
       "    .dataframe thead th {\n",
       "        text-align: right;\n",
       "    }\n",
       "</style>\n",
       "<table border=\"1\" class=\"dataframe\">\n",
       "  <thead>\n",
       "    <tr style=\"text-align: right;\">\n",
       "      <th></th>\n",
       "      <th>author</th>\n",
       "      <th>title</th>\n",
       "      <th>selftext</th>\n",
       "      <th>score</th>\n",
       "      <th>created_utc</th>\n",
       "    </tr>\n",
       "  </thead>\n",
       "  <tbody>\n",
       "    <tr>\n",
       "      <th>175</th>\n",
       "      <td>Brian_7571999</td>\n",
       "      <td>Cei / camber energy. Thoughts?</td>\n",
       "      <td>[removed]</td>\n",
       "      <td>1</td>\n",
       "      <td>1631714206</td>\n",
       "    </tr>\n",
       "  </tbody>\n",
       "</table>\n",
       "</div>"
      ],
      "text/plain": [
       "            author                           title   selftext  score  \\\n",
       "175  Brian_7571999  Cei / camber energy. Thoughts?  [removed]      1   \n",
       "\n",
       "     created_utc  \n",
       "175   1631714206  "
      ]
     },
     "metadata": {},
     "execution_count": 41
    }
   ],
   "metadata": {}
  },
  {
   "cell_type": "code",
   "execution_count": 42,
   "source": [
    "subs_df['date'] = pd.to_datetime(subs_df['created_utc'], utc =True, unit='s')"
   ],
   "outputs": [],
   "metadata": {}
  },
  {
   "cell_type": "code",
   "execution_count": 58,
   "source": [
    "subs_df_2 = subs_df[['title','selftext','date','score','num_comments']]\r\n"
   ],
   "outputs": [],
   "metadata": {}
  },
  {
   "cell_type": "code",
   "execution_count": 59,
   "source": [
    "display(subs_df_2.head(5))\r\n",
    "display(subs_df_2.tail(5))\r\n"
   ],
   "outputs": [
    {
     "output_type": "display_data",
     "data": {
      "text/html": [
       "<div>\n",
       "<style scoped>\n",
       "    .dataframe tbody tr th:only-of-type {\n",
       "        vertical-align: middle;\n",
       "    }\n",
       "\n",
       "    .dataframe tbody tr th {\n",
       "        vertical-align: top;\n",
       "    }\n",
       "\n",
       "    .dataframe thead th {\n",
       "        text-align: right;\n",
       "    }\n",
       "</style>\n",
       "<table border=\"1\" class=\"dataframe\">\n",
       "  <thead>\n",
       "    <tr style=\"text-align: right;\">\n",
       "      <th></th>\n",
       "      <th>title</th>\n",
       "      <th>selftext</th>\n",
       "      <th>date</th>\n",
       "      <th>score</th>\n",
       "      <th>num_comments</th>\n",
       "    </tr>\n",
       "  </thead>\n",
       "  <tbody>\n",
       "    <tr>\n",
       "      <th>0</th>\n",
       "      <td>I have no DD. It’s a cheap price, the stock ha...</td>\n",
       "      <td></td>\n",
       "      <td>2021-10-02 01:43:23+00:00</td>\n",
       "      <td>1</td>\n",
       "      <td>0</td>\n",
       "    </tr>\n",
       "    <tr>\n",
       "      <th>1</th>\n",
       "      <td>Who is in PED? It is an energy stock! I am in ...</td>\n",
       "      <td>\\nToday it had a run. It is an energy stock. H...</td>\n",
       "      <td>2021-10-02 01:08:40+00:00</td>\n",
       "      <td>1</td>\n",
       "      <td>0</td>\n",
       "    </tr>\n",
       "    <tr>\n",
       "      <th>2</th>\n",
       "      <td>WHO IS KNOWN FOR CARBON CAPTURE,OH YES. $CEI</td>\n",
       "      <td></td>\n",
       "      <td>2021-10-01 20:45:15+00:00</td>\n",
       "      <td>1</td>\n",
       "      <td>0</td>\n",
       "    </tr>\n",
       "    <tr>\n",
       "      <th>3</th>\n",
       "      <td>$PROG - The Next Big Short Squeeze Candidate</td>\n",
       "      <td>Alright retards, I can't believe I happened up...</td>\n",
       "      <td>2021-10-01 19:21:32+00:00</td>\n",
       "      <td>1</td>\n",
       "      <td>0</td>\n",
       "    </tr>\n",
       "    <tr>\n",
       "      <th>4</th>\n",
       "      <td>CEI 100% PORT YOLO GAIN HODL TILL 10$+ then 20$</td>\n",
       "      <td></td>\n",
       "      <td>2021-10-01 18:26:46+00:00</td>\n",
       "      <td>1</td>\n",
       "      <td>0</td>\n",
       "    </tr>\n",
       "  </tbody>\n",
       "</table>\n",
       "</div>"
      ],
      "text/plain": [
       "                                               title  \\\n",
       "0  I have no DD. It’s a cheap price, the stock ha...   \n",
       "1  Who is in PED? It is an energy stock! I am in ...   \n",
       "2       WHO IS KNOWN FOR CARBON CAPTURE,OH YES. $CEI   \n",
       "3       $PROG - The Next Big Short Squeeze Candidate   \n",
       "4    CEI 100% PORT YOLO GAIN HODL TILL 10$+ then 20$   \n",
       "\n",
       "                                            selftext  \\\n",
       "0                                                      \n",
       "1  \\nToday it had a run. It is an energy stock. H...   \n",
       "2                                                      \n",
       "3  Alright retards, I can't believe I happened up...   \n",
       "4                                                      \n",
       "\n",
       "                       date  score  num_comments  \n",
       "0 2021-10-02 01:43:23+00:00      1             0  \n",
       "1 2021-10-02 01:08:40+00:00      1             0  \n",
       "2 2021-10-01 20:45:15+00:00      1             0  \n",
       "3 2021-10-01 19:21:32+00:00      1             0  \n",
       "4 2021-10-01 18:26:46+00:00      1             0  "
      ]
     },
     "metadata": {}
    },
    {
     "output_type": "display_data",
     "data": {
      "text/html": [
       "<div>\n",
       "<style scoped>\n",
       "    .dataframe tbody tr th:only-of-type {\n",
       "        vertical-align: middle;\n",
       "    }\n",
       "\n",
       "    .dataframe tbody tr th {\n",
       "        vertical-align: top;\n",
       "    }\n",
       "\n",
       "    .dataframe thead th {\n",
       "        text-align: right;\n",
       "    }\n",
       "</style>\n",
       "<table border=\"1\" class=\"dataframe\">\n",
       "  <thead>\n",
       "    <tr style=\"text-align: right;\">\n",
       "      <th></th>\n",
       "      <th>title</th>\n",
       "      <th>selftext</th>\n",
       "      <th>date</th>\n",
       "      <th>score</th>\n",
       "      <th>num_comments</th>\n",
       "    </tr>\n",
       "  </thead>\n",
       "  <tbody>\n",
       "    <tr>\n",
       "      <th>369</th>\n",
       "      <td>CEI too the moon</td>\n",
       "      <td>100%+ returns today what do you guys think?\\n\\...</td>\n",
       "      <td>2018-09-24 21:10:24+00:00</td>\n",
       "      <td>1</td>\n",
       "      <td>0</td>\n",
       "    </tr>\n",
       "    <tr>\n",
       "      <th>370</th>\n",
       "      <td>The cheapest thing on Robinhood currently is [...</td>\n",
       "      <td>[removed]</td>\n",
       "      <td>2018-02-28 20:04:11+00:00</td>\n",
       "      <td>21</td>\n",
       "      <td>37</td>\n",
       "    </tr>\n",
       "    <tr>\n",
       "      <th>371</th>\n",
       "      <td>BUY CEI U WILL 9X TIMES INCREASE UR MONEY$$$ h...</td>\n",
       "      <td>[removed]</td>\n",
       "      <td>2017-11-22 16:34:32+00:00</td>\n",
       "      <td>1</td>\n",
       "      <td>0</td>\n",
       "    </tr>\n",
       "    <tr>\n",
       "      <th>372</th>\n",
       "      <td>ALERT FOR TUES, NOV 20, 2017 3 HOTTTT WALL ST....</td>\n",
       "      <td>[removed]</td>\n",
       "      <td>2017-11-21 07:04:42+00:00</td>\n",
       "      <td>1</td>\n",
       "      <td>0</td>\n",
       "    </tr>\n",
       "    <tr>\n",
       "      <th>373</th>\n",
       "      <td>XXII and CEI today?</td>\n",
       "      <td>Anyone hopping on or am I going to be the only...</td>\n",
       "      <td>2017-10-06 12:57:00+00:00</td>\n",
       "      <td>7</td>\n",
       "      <td>13</td>\n",
       "    </tr>\n",
       "  </tbody>\n",
       "</table>\n",
       "</div>"
      ],
      "text/plain": [
       "                                                 title  \\\n",
       "369                                   CEI too the moon   \n",
       "370  The cheapest thing on Robinhood currently is [...   \n",
       "371  BUY CEI U WILL 9X TIMES INCREASE UR MONEY$$$ h...   \n",
       "372  ALERT FOR TUES, NOV 20, 2017 3 HOTTTT WALL ST....   \n",
       "373                                XXII and CEI today?   \n",
       "\n",
       "                                              selftext  \\\n",
       "369  100%+ returns today what do you guys think?\\n\\...   \n",
       "370                                          [removed]   \n",
       "371                                          [removed]   \n",
       "372                                          [removed]   \n",
       "373  Anyone hopping on or am I going to be the only...   \n",
       "\n",
       "                         date  score  num_comments  \n",
       "369 2018-09-24 21:10:24+00:00      1             0  \n",
       "370 2018-02-28 20:04:11+00:00     21            37  \n",
       "371 2017-11-22 16:34:32+00:00      1             0  \n",
       "372 2017-11-21 07:04:42+00:00      1             0  \n",
       "373 2017-10-06 12:57:00+00:00      7            13  "
      ]
     },
     "metadata": {}
    }
   ],
   "metadata": {}
  },
  {
   "cell_type": "code",
   "execution_count": 62,
   "source": [
    "subs_df_2.to_csv(Path('./Resources/reddit_data.csv'),encoding='utf-8', index=None, header=True)"
   ],
   "outputs": [],
   "metadata": {}
  }
 ],
 "metadata": {
  "orig_nbformat": 4,
  "language_info": {
   "name": "python",
   "version": "3.7.10",
   "mimetype": "text/x-python",
   "codemirror_mode": {
    "name": "ipython",
    "version": 3
   },
   "pygments_lexer": "ipython3",
   "nbconvert_exporter": "python",
   "file_extension": ".py"
  },
  "kernelspec": {
   "name": "python3",
   "display_name": "Python 3.7.10 64-bit ('dev': conda)"
  },
  "interpreter": {
   "hash": "98e8a86f1a80fa5964c775adedce0c1597264d02af6c8f426349aa657d6ada29"
  }
 },
 "nbformat": 4,
 "nbformat_minor": 2
}